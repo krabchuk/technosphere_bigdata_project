{
 "cells": [
  {
   "cell_type": "code",
   "execution_count": 16,
   "metadata": {},
   "outputs": [
    {
     "data": {
      "text/plain": [
       "array([[1.25614805e-02, 6.24949277e-06, 2.12482754e-03, ...,\n",
       "        0.00000000e+00, 0.00000000e+00, 0.00000000e+00],\n",
       "       [4.88006923e-02, 2.43152428e-05, 1.09418593e-02, ...,\n",
       "        0.00000000e+00, 0.00000000e+00, 0.00000000e+00],\n",
       "       [1.27951193e-02, 1.27377992e-05, 1.34383781e-03, ...,\n",
       "        0.00000000e+00, 0.00000000e+00, 0.00000000e+00],\n",
       "       ...,\n",
       "       [1.19753261e-02, 1.19039026e-05, 9.70168066e-04, ...,\n",
       "        0.00000000e+00, 0.00000000e+00, 0.00000000e+00],\n",
       "       [2.07128054e-02, 2.05892698e-05, 1.67802549e-03, ...,\n",
       "        0.00000000e+00, 0.00000000e+00, 0.00000000e+00],\n",
       "       [1.38100609e-02, 2.06120312e-05, 1.58712641e-03, ...,\n",
       "        0.00000000e+00, 0.00000000e+00, 0.00000000e+00]])"
      ]
     },
     "execution_count": 16,
     "metadata": {},
     "output_type": "execute_result"
    }
   ],
   "source": [
    "import pandas as pd\n",
    "\n",
    "data = pd.read_csv('avito_wo_nan.csv')\n",
    "data = data.drop(['Unnamed: 0', 'Руль', 'Цвет', 'Объём двигателя'], axis=1)\n",
    "data_new = data.drop(['VIN или номер кузова', 'Ссылка'], axis=1)\n",
    "\n",
    "data_dummies = pd.get_dummies(data=data_new, columns=['Марка', 'Модель', 'Тип кузова',\n",
    "                                                      'Привод', 'Тип двигателя',\n",
    "                                                      'Состояние', 'Коробка передач'])\n",
    "\n",
    "X = data_dummies.drop(['Цена'], axis=1).values\n",
    "y = data_dummies['Цена'].values\n",
    "\n",
    "from sklearn.preprocessing import Normalizer\n",
    "\n",
    "transformer = Normalizer().fit(X) # fit does nothing.\n",
    "transformer\n",
    "Normalizer(copy=True, norm='l2')\n",
    "transformer.transform(X)"
   ]
  },
  {
   "cell_type": "code",
   "execution_count": 12,
   "metadata": {},
   "outputs": [],
   "source": [
    "from sklearn.model_selection import train_test_split\n",
    "\n",
    "X_train, X_test, y_train, y_test = train_test_split(\n",
    "         X, y, test_size=0.2, random_state=42)"
   ]
  },
  {
   "cell_type": "code",
   "execution_count": 8,
   "metadata": {},
   "outputs": [
    {
     "data": {
      "text/plain": [
       "PCA(copy=True, iterated_power='auto', n_components=None, random_state=None,\n",
       "  svd_solver='auto', tol=0.0, whiten=False)"
      ]
     },
     "execution_count": 8,
     "metadata": {},
     "output_type": "execute_result"
    }
   ],
   "source": [
    "from sklearn.decomposition import PCA\n",
    "\n",
    "pca = PCA()\n",
    "pca.fit(X, y)"
   ]
  },
  {
   "cell_type": "code",
   "execution_count": 9,
   "metadata": {},
   "outputs": [
    {
     "data": {
      "text/plain": [
       "array([9.99998809e-01, 1.18917993e-06, 1.54452432e-09, 1.34928011e-10,\n",
       "       9.59395965e-11, 4.98647821e-11, 4.28571113e-11, 3.73127985e-11,\n",
       "       3.30722741e-11, 2.88860856e-11, 2.53476071e-11, 2.22194354e-11,\n",
       "       1.88198181e-11, 1.54368521e-11, 1.39542621e-11, 1.11449968e-11,\n",
       "       1.04180367e-11, 9.51592164e-12, 7.47206119e-12, 6.73905473e-12,\n",
       "       6.04462283e-12, 5.81682952e-12, 4.53937624e-12, 4.34126299e-12,\n",
       "       4.00610558e-12, 3.42014445e-12, 3.30519554e-12, 2.33780729e-12,\n",
       "       2.09045429e-12, 1.58541372e-12, 1.38129131e-12, 1.16223579e-12,\n",
       "       9.46825704e-13, 9.44177386e-13, 8.66617801e-13, 6.56211960e-13,\n",
       "       5.22305776e-13, 3.56404612e-13, 9.35627846e-14, 8.95129521e-14,\n",
       "       2.48675023e-14, 5.64865460e-33, 5.64865460e-33, 5.64865460e-33,\n",
       "       5.64865460e-33, 5.64865460e-33, 5.64865460e-33, 5.64865460e-33])"
      ]
     },
     "execution_count": 9,
     "metadata": {},
     "output_type": "execute_result"
    }
   ],
   "source": [
    "pca.explained_variance_ratio_"
   ]
  },
  {
   "cell_type": "code",
   "execution_count": 7,
   "metadata": {},
   "outputs": [
    {
     "name": "stdout",
     "output_type": "stream",
     "text": [
      "<class 'pandas.core.frame.DataFrame'>\n",
      "RangeIndex: 41104 entries, 0 to 41103\n",
      "Data columns (total 13 columns):\n",
      "Год выпуска           41104 non-null int64\n",
      "Тип кузова            41104 non-null object\n",
      "Цена                  41104 non-null float64\n",
      "Объём двигателя       41104 non-null float64\n",
      "Цвет                  41104 non-null object\n",
      "Привод                41104 non-null object\n",
      "Руль                  41104 non-null object\n",
      "Тип двигателя         41104 non-null object\n",
      "Состояние             41104 non-null object\n",
      "Владельцев по ПТС     41104 non-null float64\n",
      "Мощность двигателя    41104 non-null float64\n",
      "Пробег                41104 non-null float64\n",
      "Коробка передач       41104 non-null object\n",
      "dtypes: float64(5), int64(1), object(7)\n",
      "memory usage: 4.1+ MB\n"
     ]
    }
   ],
   "source": [
    "data_new.info()"
   ]
  },
  {
   "cell_type": "code",
   "execution_count": 17,
   "metadata": {},
   "outputs": [
    {
     "name": "stderr",
     "output_type": "stream",
     "text": [
      "/usr/local/lib/python3.7/site-packages/sklearn/linear_model/ridge.py:125: LinAlgWarning: scipy.linalg.solve\n",
      "Ill-conditioned matrix detected. Result is not guaranteed to be accurate.\n",
      "Reciprocal condition number5.611673e-17\n",
      "  overwrite_a=True).T\n",
      "/usr/local/lib/python3.7/site-packages/sklearn/linear_model/ridge.py:125: LinAlgWarning: scipy.linalg.solve\n",
      "Ill-conditioned matrix detected. Result is not guaranteed to be accurate.\n",
      "Reciprocal condition number3.291498e-17\n",
      "  overwrite_a=True).T\n",
      "/usr/local/lib/python3.7/site-packages/sklearn/linear_model/ridge.py:125: LinAlgWarning: scipy.linalg.solve\n",
      "Ill-conditioned matrix detected. Result is not guaranteed to be accurate.\n",
      "Reciprocal condition number3.157976e-17\n",
      "  overwrite_a=True).T\n",
      "/usr/local/lib/python3.7/site-packages/sklearn/linear_model/ridge.py:125: LinAlgWarning: scipy.linalg.solve\n",
      "Ill-conditioned matrix detected. Result is not guaranteed to be accurate.\n",
      "Reciprocal condition number5.808103e-17\n",
      "  overwrite_a=True).T\n",
      "/usr/local/lib/python3.7/site-packages/sklearn/linear_model/ridge.py:125: LinAlgWarning: scipy.linalg.solve\n",
      "Ill-conditioned matrix detected. Result is not guaranteed to be accurate.\n",
      "Reciprocal condition number3.393887e-17\n",
      "  overwrite_a=True).T\n"
     ]
    },
    {
     "name": "stdout",
     "output_type": "stream",
     "text": [
      "CPU times: user 51.4 s, sys: 29.2 s, total: 1min 20s\n",
      "Wall time: 32.9 s\n"
     ]
    }
   ],
   "source": [
    "%%time\n",
    "from sklearn.model_selection import GridSearchCV\n",
    "from sklearn.linear_model import Ridge\n",
    "\n",
    "clf = Ridge()\n",
    "\n",
    "alphas = [0.01, 0.1, 1, 10, 100, 1000]\n",
    "param_grid = {\"alpha\": alphas}\n",
    "\n",
    "grid = GridSearchCV(clf, param_grid=param_grid, cv=5)\n",
    "grid.fit(X_train, y_train)"
   ]
  },
  {
   "cell_type": "code",
   "execution_count": 18,
   "metadata": {},
   "outputs": [
    {
     "data": {
      "text/plain": [
       "0.7504139008264482"
      ]
     },
     "execution_count": 18,
     "metadata": {},
     "output_type": "execute_result"
    }
   ],
   "source": [
    "grid.best_score_"
   ]
  },
  {
   "cell_type": "code",
   "execution_count": null,
   "metadata": {},
   "outputs": [],
   "source": []
  }
 ],
 "metadata": {
  "kernelspec": {
   "display_name": "Python 3",
   "language": "python",
   "name": "python3"
  },
  "language_info": {
   "codemirror_mode": {
    "name": "ipython",
    "version": 3
   },
   "file_extension": ".py",
   "mimetype": "text/x-python",
   "name": "python",
   "nbconvert_exporter": "python",
   "pygments_lexer": "ipython3",
   "version": "3.7.1"
  }
 },
 "nbformat": 4,
 "nbformat_minor": 2
}
