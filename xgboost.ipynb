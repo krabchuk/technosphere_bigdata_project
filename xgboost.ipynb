{
 "cells": [
  {
   "cell_type": "code",
   "execution_count": 1,
   "metadata": {},
   "outputs": [
    {
     "data": {
      "text/plain": [
       "array([[1.25614805e-02, 6.24949277e-06, 2.12482754e-03, ...,\n",
       "        0.00000000e+00, 0.00000000e+00, 0.00000000e+00],\n",
       "       [4.88006923e-02, 2.43152428e-05, 1.09418593e-02, ...,\n",
       "        0.00000000e+00, 0.00000000e+00, 0.00000000e+00],\n",
       "       [1.27951193e-02, 1.27377992e-05, 1.34383781e-03, ...,\n",
       "        0.00000000e+00, 0.00000000e+00, 0.00000000e+00],\n",
       "       ...,\n",
       "       [1.19753261e-02, 1.19039026e-05, 9.70168066e-04, ...,\n",
       "        0.00000000e+00, 0.00000000e+00, 0.00000000e+00],\n",
       "       [2.07128054e-02, 2.05892698e-05, 1.67802549e-03, ...,\n",
       "        0.00000000e+00, 0.00000000e+00, 0.00000000e+00],\n",
       "       [1.38100609e-02, 2.06120312e-05, 1.58712641e-03, ...,\n",
       "        0.00000000e+00, 0.00000000e+00, 0.00000000e+00]])"
      ]
     },
     "execution_count": 1,
     "metadata": {},
     "output_type": "execute_result"
    }
   ],
   "source": [
    "import pandas as pd\n",
    "\n",
    "data = pd.read_csv('avito_wo_nan.csv')\n",
    "data = data.drop(['Unnamed: 0', 'Руль', 'Цвет', 'Объём двигателя'], axis=1)\n",
    "data_new = data.drop(['VIN или номер кузова', 'Ссылка'], axis=1)\n",
    "\n",
    "data_dummies = pd.get_dummies(data=data_new, columns=['Марка', 'Модель', 'Тип кузова',\n",
    "                                                      'Привод', 'Тип двигателя',\n",
    "                                                      'Состояние', 'Коробка передач'])\n",
    "\n",
    "X = data_dummies.drop(['Цена'], axis=1).values\n",
    "y = data_dummies['Цена'].values\n",
    "\n",
    "from sklearn.preprocessing import Normalizer\n",
    "\n",
    "transformer = Normalizer().fit(X) # fit does nothing.\n",
    "transformer\n",
    "Normalizer(copy=True, norm='l2')\n",
    "transformer.transform(X)"
   ]
  },
  {
   "cell_type": "code",
   "execution_count": 2,
   "metadata": {},
   "outputs": [],
   "source": [
    "from sklearn.model_selection import train_test_split\n",
    "\n",
    "X_train, X_test, y_train, y_test = train_test_split(\n",
    "         X, y, test_size=0.2, random_state=42)"
   ]
  },
  {
   "cell_type": "code",
   "execution_count": 3,
   "metadata": {},
   "outputs": [
    {
     "ename": "ModuleNotFoundError",
     "evalue": "No module named 'sklearn.gradientboosting'",
     "output_type": "error",
     "traceback": [
      "\u001b[0;31m---------------------------------------------------------------------------\u001b[0m",
      "\u001b[0;31mModuleNotFoundError\u001b[0m                       Traceback (most recent call last)",
      "\u001b[0;32m<ipython-input-3-a252bf1d5766>\u001b[0m in \u001b[0;36m<module>\u001b[0;34m\u001b[0m\n\u001b[0;32m----> 1\u001b[0;31m \u001b[0;32mimport\u001b[0m \u001b[0msklearn\u001b[0m\u001b[0;34m.\u001b[0m\u001b[0mgradientboosting\u001b[0m\u001b[0;34m\u001b[0m\u001b[0;34m\u001b[0m\u001b[0m\n\u001b[0m",
      "\u001b[0;31mModuleNotFoundError\u001b[0m: No module named 'sklearn.gradientboosting'"
     ]
    }
   ],
   "source": [
    "import sklearn.gradientboosting"
   ]
  },
  {
   "cell_type": "code",
   "execution_count": 4,
   "metadata": {},
   "outputs": [],
   "source": [
    "import xgboost"
   ]
  },
  {
   "cell_type": "code",
   "execution_count": 10,
   "metadata": {},
   "outputs": [],
   "source": [
    "import numpy as np"
   ]
  },
  {
   "cell_type": "code",
   "execution_count": 19,
   "metadata": {},
   "outputs": [
    {
     "name": "stdout",
     "output_type": "stream",
     "text": [
      "CPU times: user 43min 20s, sys: 15min 19s, total: 58min 39s\n",
      "Wall time: 58min 48s\n"
     ]
    }
   ],
   "source": [
    "%%time\n",
    "\n",
    "eta_ = np.linspace(0.01, 0.2, 5)\n",
    "subsample_ = np.linspace(0.5, 1, 5)\n",
    "max_deth_ = np.linspace(3, 8, 5)\n",
    "\n",
    "\n",
    "\n",
    "reg = xgboost.XGBRegressor(n_estimators=1000, tree_method='gpu_hist')\n",
    "\n",
    "from sklearn.model_selection import GridSearchCV\n",
    "\n",
    "param_grid = {\"eta\": eta_, \"subsample\": subsample_, \"max_deth\": max_deth_}\n",
    "\n",
    "grid = GridSearchCV(reg, param_grid=param_grid, cv=5)\n",
    "grid.fit(X_train, y_train)"
   ]
  },
  {
   "cell_type": "code",
   "execution_count": 20,
   "metadata": {},
   "outputs": [
    {
     "data": {
      "text/plain": [
       "0.9176107663680722"
      ]
     },
     "execution_count": 20,
     "metadata": {},
     "output_type": "execute_result"
    }
   ],
   "source": [
    "grid.best_score_"
   ]
  },
  {
   "cell_type": "code",
   "execution_count": 21,
   "metadata": {},
   "outputs": [
    {
     "data": {
      "text/plain": [
       "{'eta': 0.01, 'max_deth': 3.0, 'subsample': 1.0}"
      ]
     },
     "execution_count": 21,
     "metadata": {},
     "output_type": "execute_result"
    }
   ],
   "source": [
    "grid.best_params_"
   ]
  },
  {
   "cell_type": "code",
   "execution_count": null,
   "metadata": {},
   "outputs": [],
   "source": []
  },
  {
   "cell_type": "code",
   "execution_count": 13,
   "metadata": {},
   "outputs": [],
   "source": [
    "reg_best = grid.best_estimator_"
   ]
  },
  {
   "cell_type": "code",
   "execution_count": 18,
   "metadata": {},
   "outputs": [
    {
     "name": "stdout",
     "output_type": "stream",
     "text": [
      "[ 560000. 1200000.  530000. ... 2520000.  990000.  410000.]\n"
     ]
    },
    {
     "data": {
      "text/plain": [
       "array([ 701849.25, 1348219.  ,  464288.94, ..., 3099899.2 ,  917110.6 ,\n",
       "        466397.9 ], dtype=float32)"
      ]
     },
     "execution_count": 18,
     "metadata": {},
     "output_type": "execute_result"
    }
   ],
   "source": [
    "from sklearn.metrics import mean_squared_error\n",
    "print(y_test)\n",
    "reg_best.predict(X_test)"
   ]
  },
  {
   "cell_type": "code",
   "execution_count": 37,
   "metadata": {},
   "outputs": [
    {
     "data": {
      "text/plain": [
       "array([[1.25614804e-02, 6.24949276e-06, 2.12482754e-03, ...,\n",
       "        0.00000000e+00, 0.00000000e+00, 0.00000000e+00],\n",
       "       [4.88006907e-02, 2.43152420e-05, 1.09418589e-02, ...,\n",
       "        0.00000000e+00, 0.00000000e+00, 0.00000000e+00],\n",
       "       [1.27951192e-02, 1.27377991e-05, 1.34383781e-03, ...,\n",
       "        0.00000000e+00, 0.00000000e+00, 0.00000000e+00],\n",
       "       ...,\n",
       "       [1.19753260e-02, 1.19039026e-05, 9.70168063e-04, ...,\n",
       "        0.00000000e+00, 0.00000000e+00, 0.00000000e+00],\n",
       "       [2.07128053e-02, 2.05892697e-05, 1.67802548e-03, ...,\n",
       "        0.00000000e+00, 0.00000000e+00, 0.00000000e+00],\n",
       "       [1.38100609e-02, 2.06120312e-05, 1.58712640e-03, ...,\n",
       "        0.00000000e+00, 0.00000000e+00, 0.00000000e+00]])"
      ]
     },
     "execution_count": 37,
     "metadata": {},
     "output_type": "execute_result"
    }
   ],
   "source": [
    "import pandas as pd\n",
    "import numpy as np\n",
    "\n",
    "data = pd.read_csv('avito_wo_nan.csv')\n",
    "data = data.drop(['Unnamed: 0', 'Руль', 'Цвет', 'Объём двигателя'], axis=1)\n",
    "probeg = data['Пробег'].values\n",
    "data['Супер пробег'] =np.log(1 / (probeg + 1))\n",
    "data = data.drop(['VIN или номер кузова', 'Ссылка'], axis=1)\n",
    "data = data.loc[data['Тип кузова'] != 'лимузин']\n",
    "data = data.loc[data['Цена'] > np.percentile(data['Цена'].values, 2.5)]\n",
    "data = data.loc[data['Цена'] < np.percentile(data['Цена'].values, 97.5)]\n",
    "data = data.loc[data['Пробег'] < np.percentile(data['Пробег'].values, 95)]\n",
    "data = data.loc[data['Состояние'] != ' битый']\n",
    "\n",
    "\n",
    "\n",
    "data_dummies = pd.get_dummies(data=data, columns=['Марка', 'Модель', 'Тип кузова',\n",
    "                                                      'Привод', 'Тип двигателя',\n",
    "                                                      'Состояние', 'Коробка передач'])\n",
    "\n",
    "X = data_dummies.drop(['Цена'], axis=1).values\n",
    "y = data_dummies['Цена'].values\n",
    "\n",
    "from sklearn.preprocessing import Normalizer\n",
    "from sklearn.preprocessing import StandardScaler\n",
    "\n",
    "transformer = Normalizer().fit(X) # fit does nothing.\n",
    "transformer.transform(X)"
   ]
  },
  {
   "cell_type": "code",
   "execution_count": 38,
   "metadata": {},
   "outputs": [],
   "source": [
    "\n",
    "X_train, X_test, y_train, y_test = train_test_split(\n",
    "         X, y, test_size=0.2, random_state=42)"
   ]
  },
  {
   "cell_type": "code",
   "execution_count": 35,
   "metadata": {},
   "outputs": [
    {
     "data": {
      "text/plain": [
       "{'eta': 0.01, 'max_deth': 3.0, 'subsample': 1.0}"
      ]
     },
     "execution_count": 35,
     "metadata": {},
     "output_type": "execute_result"
    }
   ],
   "source": [
    "grid.best_params_"
   ]
  },
  {
   "cell_type": "code",
   "execution_count": 39,
   "metadata": {},
   "outputs": [
    {
     "data": {
      "text/plain": [
       "0.9602572197175845"
      ]
     },
     "execution_count": 39,
     "metadata": {},
     "output_type": "execute_result"
    }
   ],
   "source": [
    "reg_best = xgboost.XGBRegressor(n_estimators=1000, eta=0.01, max_depth=3, subsample=1,  tree_method='gpu_hist')\n",
    "reg_best.fit(X_train, y_train)\n",
    "reg_best.score(X_test, y_test)"
   ]
  },
  {
   "cell_type": "code",
   "execution_count": 42,
   "metadata": {},
   "outputs": [],
   "source": [
    "from matplotlib import pyplot\n",
    "\n",
    "def error_print (y_test, y_pred):\n",
    "    print(np.sqrt(np.mean((y_test - y_pred) ** 2)))\n",
    "    ids = np.argsort(y_test)\n",
    "    y_t = y_test[ids]\n",
    "    y_p = y_pred[ids]\n",
    "    rmse = []\n",
    "    for i in range(100):\n",
    "        start = int(len(y_pred) * i / 100)\n",
    "        end = int(len(y_pred) * (i + 1) / 100)\n",
    "        rmse.append(np.sqrt(np.mean((y_t[start:end] - y_p[start:end]) ** 2)))\n",
    "\n",
    "    plt = pyplot.plot(rmse)"
   ]
  },
  {
   "cell_type": "code",
   "execution_count": 43,
   "metadata": {},
   "outputs": [
    {
     "name": "stdout",
     "output_type": "stream",
     "text": [
      "207891.34498843527\n"
     ]
    },
    {
     "data": {
      "image/png": "[encoded data removed]",
      "text/plain": [
       "<Figure size 432x288 with 1 Axes>"
      ]
     },
     "metadata": {
      "needs_background": "light"
     },
     "output_type": "display_data"
    }
   ],
   "source": [
    "y_pred = reg_best.predict(X_test)\n",
    "error_print(y_test, y_pred)"
   ]
  },
  {
   "cell_type": "code",
   "execution_count": null,
   "metadata": {},
   "outputs": [],
   "source": []
  }
 ],
 "metadata": {
  "kernelspec": {
   "display_name": "Python 3",
   "language": "python",
   "name": "python3"
  },
  "language_info": {
   "codemirror_mode": {
    "name": "ipython",
    "version": 3
   },
   "file_extension": ".py",
   "mimetype": "text/x-python",
   "name": "python",
   "nbconvert_exporter": "python",
   "pygments_lexer": "ipython3",
   "version": "3.6.7"
  }
 },
 "nbformat": 4,
 "nbformat_minor": 2
}
