{
 "cells": [
  {
   "cell_type": "code",
   "execution_count": 1,
   "metadata": {},
   "outputs": [
    {
     "data": {
      "text/plain": [
       "array([[1.25614805e-02, 6.24949277e-06, 2.12482754e-03, ...,\n",
       "        0.00000000e+00, 0.00000000e+00, 0.00000000e+00],\n",
       "       [4.88006923e-02, 2.43152428e-05, 1.09418593e-02, ...,\n",
       "        0.00000000e+00, 0.00000000e+00, 0.00000000e+00],\n",
       "       [1.27951193e-02, 1.27377992e-05, 1.34383781e-03, ...,\n",
       "        0.00000000e+00, 0.00000000e+00, 0.00000000e+00],\n",
       "       ...,\n",
       "       [1.19753261e-02, 1.19039026e-05, 9.70168066e-04, ...,\n",
       "        0.00000000e+00, 0.00000000e+00, 0.00000000e+00],\n",
       "       [2.07128054e-02, 2.05892698e-05, 1.67802549e-03, ...,\n",
       "        0.00000000e+00, 0.00000000e+00, 0.00000000e+00],\n",
       "       [1.38100609e-02, 2.06120312e-05, 1.58712641e-03, ...,\n",
       "        0.00000000e+00, 0.00000000e+00, 0.00000000e+00]])"
      ]
     },
     "execution_count": 1,
     "metadata": {},
     "output_type": "execute_result"
    }
   ],
   "source": [
    "import pandas as pd\n",
    "\n",
    "data = pd.read_csv('avito_wo_nan.csv')\n",
    "data = data.drop(['Unnamed: 0', 'Руль', 'Цвет', 'Объём двигателя'], axis=1)\n",
    "data_new = data.drop(['VIN или номер кузова', 'Ссылка'], axis=1)\n",
    "\n",
    "data_dummies = pd.get_dummies(data=data_new, columns=['Марка', 'Модель', 'Тип кузова',\n",
    "                                                      'Привод', 'Тип двигателя',\n",
    "                                                      'Состояние', 'Коробка передач'])\n",
    "\n",
    "X = data_dummies.drop(['Цена'], axis=1).values\n",
    "y = data_dummies['Цена'].values\n",
    "\n",
    "from sklearn.preprocessing import Normalizer\n",
    "\n",
    "transformer = Normalizer().fit(X) # fit does nothing.\n",
    "transformer\n",
    "Normalizer(copy=True, norm='l2')\n",
    "transformer.transform(X)"
   ]
  },
  {
   "cell_type": "code",
   "execution_count": 2,
   "metadata": {},
   "outputs": [],
   "source": [
    "from sklearn.model_selection import train_test_split\n",
    "\n",
    "X_train, X_test, y_train, y_test = train_test_split(\n",
    "         X, y, test_size=0.2, random_state=42)"
   ]
  },
  {
   "cell_type": "code",
   "execution_count": 3,
   "metadata": {},
   "outputs": [
    {
     "ename": "ModuleNotFoundError",
     "evalue": "No module named 'sklearn.gradientboosting'",
     "output_type": "error",
     "traceback": [
      "\u001b[0;31m---------------------------------------------------------------------------\u001b[0m",
      "\u001b[0;31mModuleNotFoundError\u001b[0m                       Traceback (most recent call last)",
      "\u001b[0;32m<ipython-input-3-a252bf1d5766>\u001b[0m in \u001b[0;36m<module>\u001b[0;34m\u001b[0m\n\u001b[0;32m----> 1\u001b[0;31m \u001b[0;32mimport\u001b[0m \u001b[0msklearn\u001b[0m\u001b[0;34m.\u001b[0m\u001b[0mgradientboosting\u001b[0m\u001b[0;34m\u001b[0m\u001b[0;34m\u001b[0m\u001b[0m\n\u001b[0m",
      "\u001b[0;31mModuleNotFoundError\u001b[0m: No module named 'sklearn.gradientboosting'"
     ]
    }
   ],
   "source": [
    "import sklearn.gradientboosting"
   ]
  },
  {
   "cell_type": "code",
   "execution_count": 4,
   "metadata": {},
   "outputs": [],
   "source": [
    "import xgboost"
   ]
  },
  {
   "cell_type": "code",
   "execution_count": 10,
   "metadata": {},
   "outputs": [],
   "source": [
    "import numpy as np"
   ]
  },
  {
   "cell_type": "code",
   "execution_count": 19,
   "metadata": {},
   "outputs": [
    {
     "name": "stdout",
     "output_type": "stream",
     "text": [
      "CPU times: user 43min 20s, sys: 15min 19s, total: 58min 39s\n",
      "Wall time: 58min 48s\n"
     ]
    }
   ],
   "source": [
    "%%time\n",
    "\n",
    "eta_ = np.linspace(0.01, 0.2, 5)\n",
    "subsample_ = np.linspace(0.5, 1, 5)\n",
    "max_deth_ = np.linspace(3, 8, 5)\n",
    "\n",
    "\n",
    "\n",
    "reg = xgboost.XGBRegressor(n_estimators=1000, tree_method='gpu_hist')\n",
    "\n",
    "from sklearn.model_selection import GridSearchCV\n",
    "\n",
    "param_grid = {\"eta\": eta_, \"subsample\": subsample_, \"max_deth\": max_deth_}\n",
    "\n",
    "grid = GridSearchCV(reg, param_grid=param_grid, cv=5)\n",
    "grid.fit(X_train, y_train)"
   ]
  },
  {
   "cell_type": "code",
   "execution_count": 20,
   "metadata": {},
   "outputs": [
    {
     "data": {
      "text/plain": [
       "0.9176107663680722"
      ]
     },
     "execution_count": 20,
     "metadata": {},
     "output_type": "execute_result"
    }
   ],
   "source": [
    "grid.best_score_"
   ]
  },
  {
   "cell_type": "code",
   "execution_count": 21,
   "metadata": {},
   "outputs": [
    {
     "data": {
      "text/plain": [
       "{'eta': 0.01, 'max_deth': 3.0, 'subsample': 1.0}"
      ]
     },
     "execution_count": 21,
     "metadata": {},
     "output_type": "execute_result"
    }
   ],
   "source": [
    "grid.best_params_"
   ]
  },
  {
   "cell_type": "code",
   "execution_count": null,
   "metadata": {},
   "outputs": [],
   "source": []
  },
  {
   "cell_type": "code",
   "execution_count": 13,
   "metadata": {},
   "outputs": [],
   "source": [
    "reg_best = grid.best_estimator_"
   ]
  },
  {
   "cell_type": "code",
   "execution_count": 18,
   "metadata": {},
   "outputs": [
    {
     "name": "stdout",
     "output_type": "stream",
     "text": [
      "[ 560000. 1200000.  530000. ... 2520000.  990000.  410000.]\n"
     ]
    },
    {
     "data": {
      "text/plain": [
       "array([ 701849.25, 1348219.  ,  464288.94, ..., 3099899.2 ,  917110.6 ,\n",
       "        466397.9 ], dtype=float32)"
      ]
     },
     "execution_count": 18,
     "metadata": {},
     "output_type": "execute_result"
    }
   ],
   "source": [
    "from sklearn.metrics import mean_squared_error\n",
    "print(y_test)\n",
    "reg_best.predict(X_test)"
   ]
  },
  {
   "cell_type": "code",
   "execution_count": 22,
   "metadata": {},
   "outputs": [
    {
     "name": "stdout",
     "output_type": "stream",
     "text": [
      "<class 'pandas.core.frame.DataFrame'>\n",
      "Int64Index: 36706 entries, 0 to 41103\n",
      "Data columns (total 13 columns):\n",
      "Марка                 36706 non-null object\n",
      "Модель                36706 non-null object\n",
      "Год выпуска           36706 non-null int64\n",
      "Тип кузова            36706 non-null object\n",
      "Цена                  36706 non-null float64\n",
      "Привод                36706 non-null object\n",
      "Тип двигателя         36706 non-null object\n",
      "Состояние             36706 non-null object\n",
      "Владельцев по ПТС     36706 non-null float64\n",
      "Мощность двигателя    36706 non-null float64\n",
      "Пробег                36706 non-null float64\n",
      "Коробка передач       36706 non-null object\n",
      "Супер пробег          36706 non-null float64\n",
      "dtypes: float64(5), int64(1), object(7)\n",
      "memory usage: 3.9+ MB\n",
      "None\n"
     ]
    },
    {
     "data": {
      "text/plain": [
       "array([[1.25614804e-02, 6.24949276e-06, 2.12482754e-03, ...,\n",
       "        0.00000000e+00, 0.00000000e+00, 0.00000000e+00],\n",
       "       [4.88006907e-02, 2.43152420e-05, 1.09418589e-02, ...,\n",
       "        0.00000000e+00, 0.00000000e+00, 0.00000000e+00],\n",
       "       [1.27951192e-02, 1.27377991e-05, 1.34383781e-03, ...,\n",
       "        0.00000000e+00, 0.00000000e+00, 0.00000000e+00],\n",
       "       ...,\n",
       "       [1.19753260e-02, 1.19039026e-05, 9.70168063e-04, ...,\n",
       "        0.00000000e+00, 0.00000000e+00, 0.00000000e+00],\n",
       "       [2.07128053e-02, 2.05892697e-05, 1.67802548e-03, ...,\n",
       "        0.00000000e+00, 0.00000000e+00, 0.00000000e+00],\n",
       "       [1.38100609e-02, 2.06120312e-05, 1.58712640e-03, ...,\n",
       "        0.00000000e+00, 0.00000000e+00, 0.00000000e+00]])"
      ]
     },
     "execution_count": 22,
     "metadata": {},
     "output_type": "execute_result"
    }
   ],
   "source": [
    "import pandas as pd\n",
    "import numpy as np\n",
    "\n",
    "data = pd.read_csv('avito_wo_nan.csv')\n",
    "data = data.drop(['Unnamed: 0', 'Руль', 'Цвет', 'Объём двигателя'], axis=1)\n",
    "probeg = data['Пробег'].values\n",
    "data['Супер пробег'] =np.log(1 / (probeg + 1))\n",
    "data_new = data.drop(['VIN или номер кузова', 'Ссылка'], axis=1)\n",
    "data_new_w = data_new.loc[data_new['Тип кузова'] != 'лимузин']\n",
    "data_new_w_ = data_new_w.loc[data_new_w['Цена'] > 150000]\n",
    "data_new_w = data_new_w_.loc[data_new_w['Цена'] < 5000000]\n",
    "data_new_w_ = data_new_w.loc[data_new_w['Пробег'] < 300000]\n",
    "data_new_w = data_new_w_.loc[data_new_w_['Состояние'] != ' битый']\n",
    "\n",
    "\n",
    "\n",
    "data_dummies = pd.get_dummies(data=data_new_w, columns=['Марка', 'Модель', 'Тип кузова',\n",
    "                                                      'Привод', 'Тип двигателя',\n",
    "                                                      'Состояние', 'Коробка передач'])\n",
    "\n",
    "X = data_dummies.drop(['Цена'], axis=1).values\n",
    "y = data_dummies['Цена'].values\n",
    "\n",
    "print(data_new_w.info())\n",
    "\n",
    "from sklearn.preprocessing import Normalizer\n",
    "from sklearn.preprocessing import StandardScaler\n",
    "\n",
    "transformer = Normalizer().fit(X) # fit does nothing.\n",
    "transformer\n",
    "Normalizer(copy=True, norm='l2')\n",
    "transformer.transform(X)"
   ]
  },
  {
   "cell_type": "code",
   "execution_count": 23,
   "metadata": {},
   "outputs": [],
   "source": [
    "\n",
    "X_train, X_test, y_train, y_test = train_test_split(\n",
    "         X, y, test_size=0.2, random_state=42)"
   ]
  },
  {
   "cell_type": "code",
   "execution_count": 24,
   "metadata": {},
   "outputs": [],
   "source": [
    "reg_best = grid.best_estimator_"
   ]
  },
  {
   "cell_type": "code",
   "execution_count": 26,
   "metadata": {},
   "outputs": [
    {
     "data": {
      "text/plain": [
       "0.9527569571490305"
      ]
     },
     "execution_count": 26,
     "metadata": {},
     "output_type": "execute_result"
    }
   ],
   "source": [
    "reg_best.fit(X_train, y_train)\n",
    "reg_best.score(X_test, y_test)"
   ]
  },
  {
   "cell_type": "code",
   "execution_count": 29,
   "metadata": {},
   "outputs": [
    {
     "data": {
      "text/plain": [
       "347.97405573431365"
      ]
     },
     "execution_count": 29,
     "metadata": {},
     "output_type": "execute_result"
    }
   ],
   "source": [
    "y_pred = reg_best.predict(X_test)\n",
    "np.sqrt(np.mean(np.abs(y_test - y_pred)))"
   ]
  },
  {
   "cell_type": "code",
   "execution_count": null,
   "metadata": {},
   "outputs": [],
   "source": []
  }
 ],
 "metadata": {
  "kernelspec": {
   "display_name": "Python 3",
   "language": "python",
   "name": "python3"
  },
  "language_info": {
   "codemirror_mode": {
    "name": "ipython",
    "version": 3
   },
   "file_extension": ".py",
   "mimetype": "text/x-python",
   "name": "python",
   "nbconvert_exporter": "python",
   "pygments_lexer": "ipython3",
   "version": "3.6.7"
  }
 },
 "nbformat": 4,
 "nbformat_minor": 2
}
