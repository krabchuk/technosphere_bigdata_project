{
 "cells": [
  {
   "cell_type": "markdown",
   "metadata": {},
   "source": [
    "### Определение оптимальной цены подержаного автомобиля по техническим характеристикам"
   ]
  },
  {
   "cell_type": "markdown",
   "metadata": {},
   "source": [
    "Цель проекта - предсказание оптимальной рыночной цены для подержаного автомобиля с учётом его технических характеристик."
   ]
  },
  {
   "cell_type": "markdown",
   "metadata": {},
   "source": [
    "Данные были взяты с сайта ****avito.ru**** \n",
    "\n",
    "Критерии поиска - расположение машины в Москве и Московской области. Некатегориальные признаки планируется кодировать ohe или счётчиками."
   ]
  },
  {
   "cell_type": "code",
   "execution_count": 139,
   "metadata": {},
   "outputs": [
    {
     "data": {
      "text/html": [
       "<script type=\"text/javascript\">window.PlotlyConfig = {MathJaxConfig: 'local'};</script><script type=\"text/javascript\">if (window.MathJax) {MathJax.Hub.Config({SVG: {font: \"STIX-Web\"}});}</script><script>requirejs.config({paths: { 'plotly': ['https://cdn.plot.ly/plotly-latest.min']},});if(!window._Plotly) {require(['plotly'],function(plotly) {window._Plotly=plotly;});}</script>"
      ],
      "text/vnd.plotly.v1+html": [
       "<script type=\"text/javascript\">window.PlotlyConfig = {MathJaxConfig: 'local'};</script><script type=\"text/javascript\">if (window.MathJax) {MathJax.Hub.Config({SVG: {font: \"STIX-Web\"}});}</script><script>requirejs.config({paths: { 'plotly': ['https://cdn.plot.ly/plotly-latest.min']},});if(!window._Plotly) {require(['plotly'],function(plotly) {window._Plotly=plotly;});}</script>"
      ]
     },
     "metadata": {},
     "output_type": "display_data"
    }
   ],
   "source": [
    "import matplotlib.pyplot as plt\n",
    "import pandas as pd\n",
    "import seaborn as sns\n",
    "import numpy as np\n",
    "from plotly.offline import download_plotlyjs, init_notebook_mode, plot, iplot\n",
    "import plotly\n",
    "import plotly.graph_objs as go\n",
    "\n",
    "init_notebook_mode(connected=True)\n",
    "\n",
    "import warnings\n",
    "warnings.filterwarnings('ignore')"
   ]
  },
  {
   "cell_type": "markdown",
   "metadata": {},
   "source": [
    "#### Обозначения:\n",
    "\n",
    "* Марка - производитель автомобиля\n",
    "\n",
    "* Модель - название, используемое производителем для продажи ряда аналогичных автомобилей\n",
    "\n",
    "* Год выпуска - год, в котором был произведен автомобиль\n",
    "\n",
    "* Цена - количество денег, которое хочет продавец за данный автомобиль\n",
    "\n",
    "* Тип кузова - классификация этого автомобиля\n",
    "\n",
    "* Цвет - собственно цвет этого автомобиля\n",
    "\n",
    "* Привод - расположение ведущих колёс\n",
    "\n",
    "* Руль - расположение руля\n",
    "\n",
    "* Тип двигателя - какое топливо используется\n",
    "\n",
    "* Состояние - физическая зарактеристика автомобиля\n",
    "\n",
    "* Валдельцев по ПТС - количество людей, которые пользовались автомобилем в прошлом\n",
    "\n",
    "* Количетсво дверей - говорит само за себя\n",
    "\n",
    "* Мощность двигателя - сколько лошадинных сил имеет двигатель автомобиля\n",
    "\n",
    "* Пробег - сколько на машине проехали километров\n",
    "\n",
    "* VIN или номер кузова - условное id автомобиля\n",
    "\n",
    "* Ссылка - ссылка на данное объявление"
   ]
  },
  {
   "cell_type": "markdown",
   "metadata": {},
   "source": [
    "****Данные выглядят подобным образом:****"
   ]
  },
  {
   "cell_type": "code",
   "execution_count": 131,
   "metadata": {
    "scrolled": false
   },
   "outputs": [
    {
     "data": {
      "text/html": [
       "<div>\n",
       "<style scoped>\n",
       "    .dataframe tbody tr th:only-of-type {\n",
       "        vertical-align: middle;\n",
       "    }\n",
       "\n",
       "    .dataframe tbody tr th {\n",
       "        vertical-align: top;\n",
       "    }\n",
       "\n",
       "    .dataframe thead th {\n",
       "        text-align: right;\n",
       "    }\n",
       "</style>\n",
       "<table border=\"1\" class=\"dataframe\">\n",
       "  <thead>\n",
       "    <tr style=\"text-align: right;\">\n",
       "      <th></th>\n",
       "      <th>0</th>\n",
       "      <th>1</th>\n",
       "      <th>2</th>\n",
       "      <th>3</th>\n",
       "      <th>4</th>\n",
       "    </tr>\n",
       "  </thead>\n",
       "  <tbody>\n",
       "    <tr>\n",
       "      <th>Марка</th>\n",
       "      <td>Audi</td>\n",
       "      <td>Audi</td>\n",
       "      <td>Audi</td>\n",
       "      <td>Audi</td>\n",
       "      <td>Audi</td>\n",
       "    </tr>\n",
       "    <tr>\n",
       "      <th>Модель</th>\n",
       "      <td>A8</td>\n",
       "      <td>A8</td>\n",
       "      <td>Q5</td>\n",
       "      <td>Q5</td>\n",
       "      <td>Q7</td>\n",
       "    </tr>\n",
       "    <tr>\n",
       "      <th>Год выпуска</th>\n",
       "      <td>2010</td>\n",
       "      <td>2007</td>\n",
       "      <td>2009</td>\n",
       "      <td>2009</td>\n",
       "      <td>2007</td>\n",
       "    </tr>\n",
       "    <tr>\n",
       "      <th>Тип кузова</th>\n",
       "      <td>седан</td>\n",
       "      <td>седан</td>\n",
       "      <td>универсал</td>\n",
       "      <td>внедорожник</td>\n",
       "      <td>внедорожник</td>\n",
       "    </tr>\n",
       "    <tr>\n",
       "      <th>Цена</th>\n",
       "      <td>990 000</td>\n",
       "      <td>1 250 000</td>\n",
       "      <td>660 000</td>\n",
       "      <td>769 999</td>\n",
       "      <td>770 000</td>\n",
       "    </tr>\n",
       "    <tr>\n",
       "      <th>Объём двигателя</th>\n",
       "      <td>4.2</td>\n",
       "      <td>6.0</td>\n",
       "      <td>2.0</td>\n",
       "      <td>2.0</td>\n",
       "      <td>3.6</td>\n",
       "    </tr>\n",
       "    <tr>\n",
       "      <th>Цвет</th>\n",
       "      <td>чёрный</td>\n",
       "      <td>серый</td>\n",
       "      <td>серый</td>\n",
       "      <td>белый</td>\n",
       "      <td>чёрный</td>\n",
       "    </tr>\n",
       "    <tr>\n",
       "      <th>Привод</th>\n",
       "      <td>полный</td>\n",
       "      <td>полный</td>\n",
       "      <td>полный</td>\n",
       "      <td>полный</td>\n",
       "      <td>полный</td>\n",
       "    </tr>\n",
       "    <tr>\n",
       "      <th>Руль</th>\n",
       "      <td>левый</td>\n",
       "      <td>левый</td>\n",
       "      <td>левый</td>\n",
       "      <td>левый</td>\n",
       "      <td>левый</td>\n",
       "    </tr>\n",
       "    <tr>\n",
       "      <th>Тип двигателя</th>\n",
       "      <td>бензин</td>\n",
       "      <td>бензин</td>\n",
       "      <td>бензин</td>\n",
       "      <td>бензин</td>\n",
       "      <td>бензин</td>\n",
       "    </tr>\n",
       "    <tr>\n",
       "      <th>Состояние</th>\n",
       "      <td>не битый</td>\n",
       "      <td>не битый</td>\n",
       "      <td>не битый</td>\n",
       "      <td>не битый</td>\n",
       "      <td>не битый</td>\n",
       "    </tr>\n",
       "    <tr>\n",
       "      <th>Владельцев по ПТС</th>\n",
       "      <td>1</td>\n",
       "      <td>1</td>\n",
       "      <td>2</td>\n",
       "      <td>2</td>\n",
       "      <td>2</td>\n",
       "    </tr>\n",
       "    <tr>\n",
       "      <th>Количество дверей</th>\n",
       "      <td>4</td>\n",
       "      <td>4</td>\n",
       "      <td>5</td>\n",
       "      <td>NaN</td>\n",
       "      <td>5</td>\n",
       "    </tr>\n",
       "    <tr>\n",
       "      <th>Мощность двигателя</th>\n",
       "      <td>340 л.с.</td>\n",
       "      <td>450 л.с.</td>\n",
       "      <td>211 л.с.</td>\n",
       "      <td>211 л.с.</td>\n",
       "      <td>280 л.с.</td>\n",
       "    </tr>\n",
       "    <tr>\n",
       "      <th>Пробег</th>\n",
       "      <td>160000 км</td>\n",
       "      <td>41075 км</td>\n",
       "      <td>157000 км</td>\n",
       "      <td>81000 км</td>\n",
       "      <td>175000 км</td>\n",
       "    </tr>\n",
       "    <tr>\n",
       "      <th>VIN или номер кузова</th>\n",
       "      <td>WAUZZZ4H*BN****23</td>\n",
       "      <td>WAUZZZ4E*7N****87</td>\n",
       "      <td>WAUZZZ8R*AA****95</td>\n",
       "      <td>WAUZZZ8R*AA****51</td>\n",
       "      <td>WAUZZZ4L*8D****67</td>\n",
       "    </tr>\n",
       "    <tr>\n",
       "      <th>Коробка передач</th>\n",
       "      <td>автомат</td>\n",
       "      <td>автомат</td>\n",
       "      <td>автомат</td>\n",
       "      <td>автомат</td>\n",
       "      <td>автомат</td>\n",
       "    </tr>\n",
       "    <tr>\n",
       "      <th>Ссылка</th>\n",
       "      <td>https://www.avito.ru/moskva/avtomobili/audi_a8...</td>\n",
       "      <td>https://www.avito.ru/moskva/avtomobili/audi_a8...</td>\n",
       "      <td>https://www.avito.ru/moskva/avtomobili/audi_q5...</td>\n",
       "      <td>https://www.avito.ru/moskva/avtomobili/audi_q5...</td>\n",
       "      <td>https://www.avito.ru/moskva/avtomobili/audi_q7...</td>\n",
       "    </tr>\n",
       "  </tbody>\n",
       "</table>\n",
       "</div>"
      ],
      "text/plain": [
       "                                                                      0  \\\n",
       "Марка                                                              Audi   \n",
       "Модель                                                               A8   \n",
       "Год выпуска                                                        2010   \n",
       "Тип кузова                                                        седан   \n",
       "Цена                                                            990 000   \n",
       "Объём двигателя                                                     4.2   \n",
       "Цвет                                                             чёрный   \n",
       "Привод                                                           полный   \n",
       "Руль                                                              левый   \n",
       "Тип двигателя                                                    бензин   \n",
       "Состояние                                                      не битый   \n",
       "Владельцев по ПТС                                                     1   \n",
       "Количество дверей                                                     4   \n",
       "Мощность двигателя                                             340 л.с.   \n",
       "Пробег                                                        160000 км   \n",
       "VIN или номер кузова                                  WAUZZZ4H*BN****23   \n",
       "Коробка передач                                                 автомат   \n",
       "Ссылка                https://www.avito.ru/moskva/avtomobili/audi_a8...   \n",
       "\n",
       "                                                                      1  \\\n",
       "Марка                                                              Audi   \n",
       "Модель                                                               A8   \n",
       "Год выпуска                                                        2007   \n",
       "Тип кузова                                                        седан   \n",
       "Цена                                                          1 250 000   \n",
       "Объём двигателя                                                     6.0   \n",
       "Цвет                                                              серый   \n",
       "Привод                                                           полный   \n",
       "Руль                                                              левый   \n",
       "Тип двигателя                                                    бензин   \n",
       "Состояние                                                      не битый   \n",
       "Владельцев по ПТС                                                     1   \n",
       "Количество дверей                                                     4   \n",
       "Мощность двигателя                                             450 л.с.   \n",
       "Пробег                                                         41075 км   \n",
       "VIN или номер кузова                                  WAUZZZ4E*7N****87   \n",
       "Коробка передач                                                 автомат   \n",
       "Ссылка                https://www.avito.ru/moskva/avtomobili/audi_a8...   \n",
       "\n",
       "                                                                      2  \\\n",
       "Марка                                                              Audi   \n",
       "Модель                                                               Q5   \n",
       "Год выпуска                                                        2009   \n",
       "Тип кузова                                                    универсал   \n",
       "Цена                                                            660 000   \n",
       "Объём двигателя                                                     2.0   \n",
       "Цвет                                                              серый   \n",
       "Привод                                                           полный   \n",
       "Руль                                                              левый   \n",
       "Тип двигателя                                                    бензин   \n",
       "Состояние                                                      не битый   \n",
       "Владельцев по ПТС                                                     2   \n",
       "Количество дверей                                                     5   \n",
       "Мощность двигателя                                             211 л.с.   \n",
       "Пробег                                                        157000 км   \n",
       "VIN или номер кузова                                  WAUZZZ8R*AA****95   \n",
       "Коробка передач                                                 автомат   \n",
       "Ссылка                https://www.avito.ru/moskva/avtomobili/audi_q5...   \n",
       "\n",
       "                                                                      3  \\\n",
       "Марка                                                              Audi   \n",
       "Модель                                                               Q5   \n",
       "Год выпуска                                                        2009   \n",
       "Тип кузова                                                  внедорожник   \n",
       "Цена                                                            769 999   \n",
       "Объём двигателя                                                     2.0   \n",
       "Цвет                                                              белый   \n",
       "Привод                                                           полный   \n",
       "Руль                                                              левый   \n",
       "Тип двигателя                                                    бензин   \n",
       "Состояние                                                      не битый   \n",
       "Владельцев по ПТС                                                     2   \n",
       "Количество дверей                                                   NaN   \n",
       "Мощность двигателя                                             211 л.с.   \n",
       "Пробег                                                         81000 км   \n",
       "VIN или номер кузова                                  WAUZZZ8R*AA****51   \n",
       "Коробка передач                                                 автомат   \n",
       "Ссылка                https://www.avito.ru/moskva/avtomobili/audi_q5...   \n",
       "\n",
       "                                                                      4  \n",
       "Марка                                                              Audi  \n",
       "Модель                                                               Q7  \n",
       "Год выпуска                                                        2007  \n",
       "Тип кузова                                                  внедорожник  \n",
       "Цена                                                            770 000  \n",
       "Объём двигателя                                                     3.6  \n",
       "Цвет                                                             чёрный  \n",
       "Привод                                                           полный  \n",
       "Руль                                                              левый  \n",
       "Тип двигателя                                                    бензин  \n",
       "Состояние                                                      не битый  \n",
       "Владельцев по ПТС                                                     2  \n",
       "Количество дверей                                                     5  \n",
       "Мощность двигателя                                             280 л.с.  \n",
       "Пробег                                                        175000 км  \n",
       "VIN или номер кузова                                  WAUZZZ4L*8D****67  \n",
       "Коробка передач                                                 автомат  \n",
       "Ссылка                https://www.avito.ru/moskva/avtomobili/audi_q7...  "
      ]
     },
     "execution_count": 131,
     "metadata": {},
     "output_type": "execute_result"
    }
   ],
   "source": [
    "data = pd.read_csv('avito.csv')\n",
    "data = data.drop(['Unnamed: 0'], axis=1)\n",
    "data.head().T"
   ]
  },
  {
   "cell_type": "markdown",
   "metadata": {},
   "source": [
    "Можно заметить, что критерии \"Ссылка\" и \"VIN или номер кузова\" нам врятли пригодятся при дальнейшем рассмотрении, т.к. эти данные относятся только конкретно к этой машине, как если бы это был id например."
   ]
  },
  {
   "cell_type": "code",
   "execution_count": 132,
   "metadata": {
    "scrolled": false
   },
   "outputs": [
    {
     "name": "stdout",
     "output_type": "stream",
     "text": [
      "<class 'pandas.core.frame.DataFrame'>\n",
      "RangeIndex: 41104 entries, 0 to 41103\n",
      "Data columns (total 18 columns):\n",
      "Марка                   41104 non-null object\n",
      "Модель                  41104 non-null object\n",
      "Год выпуска             41104 non-null int64\n",
      "Тип кузова              41104 non-null object\n",
      "Цена                    41104 non-null object\n",
      "Объём двигателя         41084 non-null object\n",
      "Цвет                    41104 non-null object\n",
      "Привод                  41104 non-null object\n",
      "Руль                    41104 non-null object\n",
      "Тип двигателя           41104 non-null object\n",
      "Состояние               34397 non-null object\n",
      "Владельцев по ПТС       34397 non-null object\n",
      "Количество дверей       30300 non-null float64\n",
      "Мощность двигателя      41104 non-null object\n",
      "Пробег                  34397 non-null object\n",
      "VIN или номер кузова    41104 non-null object\n",
      "Коробка передач         41104 non-null object\n",
      "Ссылка                  41104 non-null object\n",
      "dtypes: float64(1), int64(1), object(16)\n",
      "memory usage: 5.6+ MB\n"
     ]
    }
   ],
   "source": [
    "data.info()"
   ]
  },
  {
   "cell_type": "markdown",
   "metadata": {},
   "source": [
    "К счастью, пропусков не так много, но большинство признаков категориальные, для них будем использовать OHE или счётчики.\n",
    "\n",
    "Много вещественных параметров здесь представлены как объекты, надо будет это исправить."
   ]
  },
  {
   "cell_type": "code",
   "execution_count": 133,
   "metadata": {},
   "outputs": [],
   "source": [
    "data['Цена'] = [float(x.replace(' ', '')) for x in data['Цена']]\n",
    "data['Объём двигателя'] = pd.to_numeric(data['Объём двигателя'], errors='coerce')\n",
    "data['Владельцев по ПТС'] = pd.to_numeric(data['Владельцев по ПТС'], errors='coerce')\n",
    "data['Мощность двигателя'] = [float(x.split('л')[0]) for x in data['Мощность двигателя']]\n",
    "data['Пробег'] = [str(x) for x in data['Пробег']]\n",
    "data['Пробег'] = [float(x.replace('км', '')) for x in data['Пробег']]"
   ]
  },
  {
   "cell_type": "code",
   "execution_count": 134,
   "metadata": {
    "scrolled": true
   },
   "outputs": [
    {
     "data": {
      "text/html": [
       "<div>\n",
       "<style scoped>\n",
       "    .dataframe tbody tr th:only-of-type {\n",
       "        vertical-align: middle;\n",
       "    }\n",
       "\n",
       "    .dataframe tbody tr th {\n",
       "        vertical-align: top;\n",
       "    }\n",
       "\n",
       "    .dataframe thead th {\n",
       "        text-align: right;\n",
       "    }\n",
       "</style>\n",
       "<table border=\"1\" class=\"dataframe\">\n",
       "  <thead>\n",
       "    <tr style=\"text-align: right;\">\n",
       "      <th></th>\n",
       "      <th>Год выпуска</th>\n",
       "      <th>Цена</th>\n",
       "      <th>Объём двигателя</th>\n",
       "      <th>Владельцев по ПТС</th>\n",
       "      <th>Количество дверей</th>\n",
       "      <th>Мощность двигателя</th>\n",
       "      <th>Пробег</th>\n",
       "    </tr>\n",
       "  </thead>\n",
       "  <tbody>\n",
       "    <tr>\n",
       "      <th>count</th>\n",
       "      <td>41104.000000</td>\n",
       "      <td>4.110400e+04</td>\n",
       "      <td>41016.000000</td>\n",
       "      <td>31247.000000</td>\n",
       "      <td>30300.00000</td>\n",
       "      <td>41104.000000</td>\n",
       "      <td>34397.000000</td>\n",
       "    </tr>\n",
       "    <tr>\n",
       "      <th>mean</th>\n",
       "      <td>2011.547781</td>\n",
       "      <td>1.243985e+06</td>\n",
       "      <td>2.294997</td>\n",
       "      <td>1.835376</td>\n",
       "      <td>4.53835</td>\n",
       "      <td>176.850598</td>\n",
       "      <td>120211.533622</td>\n",
       "    </tr>\n",
       "    <tr>\n",
       "      <th>std</th>\n",
       "      <td>4.697973</td>\n",
       "      <td>1.585257e+06</td>\n",
       "      <td>0.899256</td>\n",
       "      <td>0.801513</td>\n",
       "      <td>0.72017</td>\n",
       "      <td>86.320777</td>\n",
       "      <td>71416.135341</td>\n",
       "    </tr>\n",
       "    <tr>\n",
       "      <th>min</th>\n",
       "      <td>2000.000000</td>\n",
       "      <td>1.000000e+03</td>\n",
       "      <td>0.600000</td>\n",
       "      <td>1.000000</td>\n",
       "      <td>2.00000</td>\n",
       "      <td>1.000000</td>\n",
       "      <td>1.000000</td>\n",
       "    </tr>\n",
       "    <tr>\n",
       "      <th>25%</th>\n",
       "      <td>2008.000000</td>\n",
       "      <td>4.298670e+05</td>\n",
       "      <td>1.600000</td>\n",
       "      <td>1.000000</td>\n",
       "      <td>4.00000</td>\n",
       "      <td>120.000000</td>\n",
       "      <td>75352.000000</td>\n",
       "    </tr>\n",
       "    <tr>\n",
       "      <th>50%</th>\n",
       "      <td>2012.000000</td>\n",
       "      <td>7.290000e+05</td>\n",
       "      <td>2.000000</td>\n",
       "      <td>2.000000</td>\n",
       "      <td>5.00000</td>\n",
       "      <td>150.000000</td>\n",
       "      <td>110128.000000</td>\n",
       "    </tr>\n",
       "    <tr>\n",
       "      <th>75%</th>\n",
       "      <td>2015.000000</td>\n",
       "      <td>1.400000e+06</td>\n",
       "      <td>2.700000</td>\n",
       "      <td>3.000000</td>\n",
       "      <td>5.00000</td>\n",
       "      <td>211.000000</td>\n",
       "      <td>155000.000000</td>\n",
       "    </tr>\n",
       "    <tr>\n",
       "      <th>max</th>\n",
       "      <td>2018.000000</td>\n",
       "      <td>8.000000e+07</td>\n",
       "      <td>6.000000</td>\n",
       "      <td>3.000000</td>\n",
       "      <td>5.00000</td>\n",
       "      <td>1000.000000</td>\n",
       "      <td>1000000.000000</td>\n",
       "    </tr>\n",
       "  </tbody>\n",
       "</table>\n",
       "</div>"
      ],
      "text/plain": [
       "        Год выпуска          Цена  Объём двигателя  Владельцев по ПТС  \\\n",
       "count  41104.000000  4.110400e+04     41016.000000       31247.000000   \n",
       "mean    2011.547781  1.243985e+06         2.294997           1.835376   \n",
       "std        4.697973  1.585257e+06         0.899256           0.801513   \n",
       "min     2000.000000  1.000000e+03         0.600000           1.000000   \n",
       "25%     2008.000000  4.298670e+05         1.600000           1.000000   \n",
       "50%     2012.000000  7.290000e+05         2.000000           2.000000   \n",
       "75%     2015.000000  1.400000e+06         2.700000           3.000000   \n",
       "max     2018.000000  8.000000e+07         6.000000           3.000000   \n",
       "\n",
       "       Количество дверей  Мощность двигателя          Пробег  \n",
       "count        30300.00000        41104.000000    34397.000000  \n",
       "mean             4.53835          176.850598   120211.533622  \n",
       "std              0.72017           86.320777    71416.135341  \n",
       "min              2.00000            1.000000        1.000000  \n",
       "25%              4.00000          120.000000    75352.000000  \n",
       "50%              5.00000          150.000000   110128.000000  \n",
       "75%              5.00000          211.000000   155000.000000  \n",
       "max              5.00000         1000.000000  1000000.000000  "
      ]
     },
     "execution_count": 134,
     "metadata": {},
     "output_type": "execute_result"
    }
   ],
   "source": [
    "data.describe()"
   ]
  },
  {
   "cell_type": "markdown",
   "metadata": {},
   "source": [
    "****Посмотрим на то, когда были выпущены предложенные автомобили:****"
   ]
  },
  {
   "cell_type": "code",
   "execution_count": 135,
   "metadata": {},
   "outputs": [],
   "source": [
    "df_year = data['Год выпуска'].value_counts().sort_index(ascending=False)"
   ]
  },
  {
   "cell_type": "code",
   "execution_count": 137,
   "metadata": {},
   "outputs": [
    {
     "data": {
      "application/vnd.plotly.v1+json": {
       "data": [
        {
         "type": "scatter",
         "uid": "45d493c3-1b27-42c7-8c08-1576ff3ab8bd",
         "x": [
          2018,
          2017,
          2016,
          2015,
          2014,
          2013,
          2012,
          2011,
          2010,
          2009,
          2008,
          2007,
          2006,
          2005,
          2004,
          2003,
          2002,
          2001,
          2000
         ],
         "y": [
          7130,
          1343,
          1454,
          1894,
          2782,
          3251,
          3907,
          3412,
          2476,
          1458,
          3553,
          2469,
          1503,
          1106,
          1006,
          757,
          593,
          570,
          440
         ]
        }
       ],
       "layout": {
        "title": "Распределение по году выпуска"
       }
      },
      "text/html": [
       "<div id=\"8b7ea03a-647e-4c39-b2b6-c6706fa0ff38\" style=\"height: 525px; width: 100%;\" class=\"plotly-graph-div\"></div><script type=\"text/javascript\">require([\"plotly\"], function(Plotly) { window.PLOTLYENV=window.PLOTLYENV || {};window.PLOTLYENV.BASE_URL=\"https://plot.ly\";Plotly.newPlot(\"8b7ea03a-647e-4c39-b2b6-c6706fa0ff38\", [{\"x\": [2018, 2017, 2016, 2015, 2014, 2013, 2012, 2011, 2010, 2009, 2008, 2007, 2006, 2005, 2004, 2003, 2002, 2001, 2000], \"y\": [7130, 1343, 1454, 1894, 2782, 3251, 3907, 3412, 2476, 1458, 3553, 2469, 1503, 1106, 1006, 757, 593, 570, 440], \"type\": \"scatter\", \"uid\": \"45d493c3-1b27-42c7-8c08-1576ff3ab8bd\"}], {\"title\": \"\\u0420\\u0430\\u0441\\u043f\\u0440\\u0435\\u0434\\u0435\\u043b\\u0435\\u043d\\u0438\\u0435 \\u043f\\u043e \\u0433\\u043e\\u0434\\u0443 \\u0432\\u044b\\u043f\\u0443\\u0441\\u043a\\u0430\"}, {\"showLink\": false, \"linkText\": \"Export to plot.ly\"})});</script><script type=\"text/javascript\">window.addEventListener(\"resize\", function(){window._Plotly.Plots.resize(document.getElementById(\"8b7ea03a-647e-4c39-b2b6-c6706fa0ff38\"));});</script>"
      ],
      "text/vnd.plotly.v1+html": [
       "<div id=\"8b7ea03a-647e-4c39-b2b6-c6706fa0ff38\" style=\"height: 525px; width: 100%;\" class=\"plotly-graph-div\"></div><script type=\"text/javascript\">require([\"plotly\"], function(Plotly) { window.PLOTLYENV=window.PLOTLYENV || {};window.PLOTLYENV.BASE_URL=\"https://plot.ly\";Plotly.newPlot(\"8b7ea03a-647e-4c39-b2b6-c6706fa0ff38\", [{\"x\": [2018, 2017, 2016, 2015, 2014, 2013, 2012, 2011, 2010, 2009, 2008, 2007, 2006, 2005, 2004, 2003, 2002, 2001, 2000], \"y\": [7130, 1343, 1454, 1894, 2782, 3251, 3907, 3412, 2476, 1458, 3553, 2469, 1503, 1106, 1006, 757, 593, 570, 440], \"type\": \"scatter\", \"uid\": \"45d493c3-1b27-42c7-8c08-1576ff3ab8bd\"}], {\"title\": \"\\u0420\\u0430\\u0441\\u043f\\u0440\\u0435\\u0434\\u0435\\u043b\\u0435\\u043d\\u0438\\u0435 \\u043f\\u043e \\u0433\\u043e\\u0434\\u0443 \\u0432\\u044b\\u043f\\u0443\\u0441\\u043a\\u0430\"}, {\"showLink\": false, \"linkText\": \"Export to plot.ly\"})});</script><script type=\"text/javascript\">window.addEventListener(\"resize\", function(){window._Plotly.Plots.resize(document.getElementById(\"8b7ea03a-647e-4c39-b2b6-c6706fa0ff38\"));});</script>"
      ]
     },
     "metadata": {},
     "output_type": "display_data"
    }
   ],
   "source": [
    "trace1 = go.Scatter(\n",
    "    x=df_year.index,\n",
    "    y=df_year,\n",
    ")\n",
    "\n",
    "layout = {'title': 'Распределение по году выпуска'}\n",
    "d = [trace1]\n",
    "\n",
    "fig = go.Figure(data=d, layout=layout)\n",
    "iplot(fig, show_link=False)"
   ]
  },
  {
   "cell_type": "markdown",
   "metadata": {},
   "source": [
    "Сразу заметим, что очень много новых автомобилей, это пока смотрится очень загадочно. Также логичное замечание: в кризис количество продаваемых автомобилей падает, т.к. скорее всего падает спрос на них. "
   ]
  },
  {
   "cell_type": "markdown",
   "metadata": {},
   "source": [
    "****Рассмотрим корреляции вещественных признаков:****"
   ]
  },
  {
   "cell_type": "code",
   "execution_count": 140,
   "metadata": {},
   "outputs": [
    {
     "data": {
      "text/plain": [
       "<matplotlib.axes._subplots.AxesSubplot at 0x7ffb69739668>"
      ]
     },
     "execution_count": 140,
     "metadata": {},
     "output_type": "execute_result"
    },
    {
     "data": {
      "image/png": "[encoded data removed]",
      "text/plain": [
       "<Figure size 1008x504 with 2 Axes>"
      ]
     },
     "metadata": {},
     "output_type": "display_data"
    }
   ],
   "source": [
    "df_corr = data.drop(['Марка', 'Модель', 'Тип кузова', \n",
    "                     'Цвет', 'Привод', 'Руль',\n",
    "                     'Тип двигателя', 'Состояние',\n",
    "                     'VIN или номер кузова', 'Ссылка'], axis=1)\n",
    "fig = plt.figure(figsize= (14,7))\n",
    "sns.heatmap(df_corr.dropna().corr(), \n",
    "            xticklabels = df_corr.columns.values,\n",
    "            yticklabels = df_corr.columns.values, \n",
    "            cmap = 'Blues')"
   ]
  },
  {
   "cell_type": "markdown",
   "metadata": {},
   "source": [
    "Довольно очевидные замечания: пробег обратно пропорционален цене, как и количество хозяева машины. В то время как мощность двигателя и его оъем наоборот положительно влияют на цену."
   ]
  },
  {
   "cell_type": "markdown",
   "metadata": {},
   "source": [
    "****Как выглядит распределение по типам кузова и средним ценам на автомобили данного типа:****"
   ]
  },
  {
   "cell_type": "code",
   "execution_count": 144,
   "metadata": {},
   "outputs": [
    {
     "data": {
      "text/plain": [
       "Тип кузова\n",
       "внедорожник     1.777722e+06\n",
       "кабриолет       2.173736e+06\n",
       "купе            1.974174e+06\n",
       "лимузин         2.919397e+06\n",
       "микроавтобус    1.442736e+06\n",
       "минивэн         1.286932e+06\n",
       "пикап           1.453802e+06\n",
       "седан           9.419873e+05\n",
       "универсал       6.859597e+05\n",
       "фургон          5.819117e+05\n",
       "хетчбэк         6.223115e+05\n",
       "Name: Цена, dtype: float64"
      ]
     },
     "execution_count": 144,
     "metadata": {},
     "output_type": "execute_result"
    }
   ],
   "source": [
    "df_type_price = data.groupby(by='Тип кузова')['Цена'].mean()\n",
    "df_type_price"
   ]
  },
  {
   "cell_type": "code",
   "execution_count": 152,
   "metadata": {
    "scrolled": true
   },
   "outputs": [
    {
     "data": {
      "application/vnd.plotly.v1+json": {
       "data": [
        {
         "name": "Тип кузова",
         "type": "bar",
         "uid": "e8c2adba-dcf1-4e42-b3f5-e2649431fdcb",
         "x": [
          "внедорожник",
          "седан",
          "хетчбэк",
          "универсал",
          "минивэн",
          "фургон",
          "купе",
          "микроавтобус",
          "пикап",
          "кабриолет",
          "лимузин"
         ],
         "y": [
          15618,
          13094,
          5484,
          2003,
          1616,
          1321,
          813,
          616,
          392,
          126,
          21
         ]
        },
        {
         "name": "Цена / 100",
         "type": "bar",
         "uid": "f8db9762-7467-4584-a572-45d80a02107e",
         "x": [
          "внедорожник",
          "кабриолет",
          "купе",
          "лимузин",
          "микроавтобус",
          "минивэн",
          "пикап",
          "седан",
          "универсал",
          "фургон",
          "хетчбэк"
         ],
         "y": [
          17777.215257395314,
          21737.359365079366,
          19741.737281672817,
          29193.9680952381,
          14427.35655844156,
          12869.320433168316,
          14538.024413265306,
          9419.873383992668,
          6859.596909635547,
          5819.116517789554,
          6223.1147574762945
         ]
        }
       ],
       "layout": {
        "title": "Соотношение типам кузова автомобилей"
       }
      },
      "text/html": [
       "<div id=\"37778e45-5173-409a-a1a8-d2230cd5a316\" style=\"height: 525px; width: 100%;\" class=\"plotly-graph-div\"></div><script type=\"text/javascript\">require([\"plotly\"], function(Plotly) { window.PLOTLYENV=window.PLOTLYENV || {};window.PLOTLYENV.BASE_URL=\"https://plot.ly\";Plotly.newPlot(\"37778e45-5173-409a-a1a8-d2230cd5a316\", [{\"name\": \"\\u0422\\u0438\\u043f \\u043a\\u0443\\u0437\\u043e\\u0432\\u0430\", \"x\": [\"\\u0432\\u043d\\u0435\\u0434\\u043e\\u0440\\u043e\\u0436\\u043d\\u0438\\u043a\", \"\\u0441\\u0435\\u0434\\u0430\\u043d\", \"\\u0445\\u0435\\u0442\\u0447\\u0431\\u044d\\u043a\", \"\\u0443\\u043d\\u0438\\u0432\\u0435\\u0440\\u0441\\u0430\\u043b\", \"\\u043c\\u0438\\u043d\\u0438\\u0432\\u044d\\u043d\", \"\\u0444\\u0443\\u0440\\u0433\\u043e\\u043d\", \"\\u043a\\u0443\\u043f\\u0435\", \"\\u043c\\u0438\\u043a\\u0440\\u043e\\u0430\\u0432\\u0442\\u043e\\u0431\\u0443\\u0441\", \"\\u043f\\u0438\\u043a\\u0430\\u043f\", \"\\u043a\\u0430\\u0431\\u0440\\u0438\\u043e\\u043b\\u0435\\u0442\", \"\\u043b\\u0438\\u043c\\u0443\\u0437\\u0438\\u043d\"], \"y\": [15618, 13094, 5484, 2003, 1616, 1321, 813, 616, 392, 126, 21], \"type\": \"bar\", \"uid\": \"e8c2adba-dcf1-4e42-b3f5-e2649431fdcb\"}, {\"name\": \"\\u0426\\u0435\\u043d\\u0430 / 100\", \"x\": [\"\\u0432\\u043d\\u0435\\u0434\\u043e\\u0440\\u043e\\u0436\\u043d\\u0438\\u043a\", \"\\u043a\\u0430\\u0431\\u0440\\u0438\\u043e\\u043b\\u0435\\u0442\", \"\\u043a\\u0443\\u043f\\u0435\", \"\\u043b\\u0438\\u043c\\u0443\\u0437\\u0438\\u043d\", \"\\u043c\\u0438\\u043a\\u0440\\u043e\\u0430\\u0432\\u0442\\u043e\\u0431\\u0443\\u0441\", \"\\u043c\\u0438\\u043d\\u0438\\u0432\\u044d\\u043d\", \"\\u043f\\u0438\\u043a\\u0430\\u043f\", \"\\u0441\\u0435\\u0434\\u0430\\u043d\", \"\\u0443\\u043d\\u0438\\u0432\\u0435\\u0440\\u0441\\u0430\\u043b\", \"\\u0444\\u0443\\u0440\\u0433\\u043e\\u043d\", \"\\u0445\\u0435\\u0442\\u0447\\u0431\\u044d\\u043a\"], \"y\": [17777.215257395314, 21737.359365079366, 19741.737281672817, 29193.9680952381, 14427.35655844156, 12869.320433168316, 14538.024413265306, 9419.873383992668, 6859.596909635547, 5819.116517789554, 6223.1147574762945], \"type\": \"bar\", \"uid\": \"f8db9762-7467-4584-a572-45d80a02107e\"}], {\"title\": \"\\u0421\\u043e\\u043e\\u0442\\u043d\\u043e\\u0448\\u0435\\u043d\\u0438\\u0435 \\u0442\\u0438\\u043f\\u0430\\u043c \\u043a\\u0443\\u0437\\u043e\\u0432\\u0430 \\u0430\\u0432\\u0442\\u043e\\u043c\\u043e\\u0431\\u0438\\u043b\\u0435\\u0439\"}, {\"showLink\": false, \"linkText\": \"Export to plot.ly\"})});</script><script type=\"text/javascript\">window.addEventListener(\"resize\", function(){window._Plotly.Plots.resize(document.getElementById(\"37778e45-5173-409a-a1a8-d2230cd5a316\"));});</script>"
      ],
      "text/vnd.plotly.v1+html": [
       "<div id=\"37778e45-5173-409a-a1a8-d2230cd5a316\" style=\"height: 525px; width: 100%;\" class=\"plotly-graph-div\"></div><script type=\"text/javascript\">require([\"plotly\"], function(Plotly) { window.PLOTLYENV=window.PLOTLYENV || {};window.PLOTLYENV.BASE_URL=\"https://plot.ly\";Plotly.newPlot(\"37778e45-5173-409a-a1a8-d2230cd5a316\", [{\"name\": \"\\u0422\\u0438\\u043f \\u043a\\u0443\\u0437\\u043e\\u0432\\u0430\", \"x\": [\"\\u0432\\u043d\\u0435\\u0434\\u043e\\u0440\\u043e\\u0436\\u043d\\u0438\\u043a\", \"\\u0441\\u0435\\u0434\\u0430\\u043d\", \"\\u0445\\u0435\\u0442\\u0447\\u0431\\u044d\\u043a\", \"\\u0443\\u043d\\u0438\\u0432\\u0435\\u0440\\u0441\\u0430\\u043b\", \"\\u043c\\u0438\\u043d\\u0438\\u0432\\u044d\\u043d\", \"\\u0444\\u0443\\u0440\\u0433\\u043e\\u043d\", \"\\u043a\\u0443\\u043f\\u0435\", \"\\u043c\\u0438\\u043a\\u0440\\u043e\\u0430\\u0432\\u0442\\u043e\\u0431\\u0443\\u0441\", \"\\u043f\\u0438\\u043a\\u0430\\u043f\", \"\\u043a\\u0430\\u0431\\u0440\\u0438\\u043e\\u043b\\u0435\\u0442\", \"\\u043b\\u0438\\u043c\\u0443\\u0437\\u0438\\u043d\"], \"y\": [15618, 13094, 5484, 2003, 1616, 1321, 813, 616, 392, 126, 21], \"type\": \"bar\", \"uid\": \"e8c2adba-dcf1-4e42-b3f5-e2649431fdcb\"}, {\"name\": \"\\u0426\\u0435\\u043d\\u0430 / 100\", \"x\": [\"\\u0432\\u043d\\u0435\\u0434\\u043e\\u0440\\u043e\\u0436\\u043d\\u0438\\u043a\", \"\\u043a\\u0430\\u0431\\u0440\\u0438\\u043e\\u043b\\u0435\\u0442\", \"\\u043a\\u0443\\u043f\\u0435\", \"\\u043b\\u0438\\u043c\\u0443\\u0437\\u0438\\u043d\", \"\\u043c\\u0438\\u043a\\u0440\\u043e\\u0430\\u0432\\u0442\\u043e\\u0431\\u0443\\u0441\", \"\\u043c\\u0438\\u043d\\u0438\\u0432\\u044d\\u043d\", \"\\u043f\\u0438\\u043a\\u0430\\u043f\", \"\\u0441\\u0435\\u0434\\u0430\\u043d\", \"\\u0443\\u043d\\u0438\\u0432\\u0435\\u0440\\u0441\\u0430\\u043b\", \"\\u0444\\u0443\\u0440\\u0433\\u043e\\u043d\", \"\\u0445\\u0435\\u0442\\u0447\\u0431\\u044d\\u043a\"], \"y\": [17777.215257395314, 21737.359365079366, 19741.737281672817, 29193.9680952381, 14427.35655844156, 12869.320433168316, 14538.024413265306, 9419.873383992668, 6859.596909635547, 5819.116517789554, 6223.1147574762945], \"type\": \"bar\", \"uid\": \"f8db9762-7467-4584-a572-45d80a02107e\"}], {\"title\": \"\\u0421\\u043e\\u043e\\u0442\\u043d\\u043e\\u0448\\u0435\\u043d\\u0438\\u0435 \\u0442\\u0438\\u043f\\u0430\\u043c \\u043a\\u0443\\u0437\\u043e\\u0432\\u0430 \\u0430\\u0432\\u0442\\u043e\\u043c\\u043e\\u0431\\u0438\\u043b\\u0435\\u0439\"}, {\"showLink\": false, \"linkText\": \"Export to plot.ly\"})});</script><script type=\"text/javascript\">window.addEventListener(\"resize\", function(){window._Plotly.Plots.resize(document.getElementById(\"37778e45-5173-409a-a1a8-d2230cd5a316\"));});</script>"
      ]
     },
     "metadata": {},
     "output_type": "display_data"
    }
   ],
   "source": [
    "df_type = data['Тип кузова'].value_counts()\n",
    "\n",
    "trace1 = go.Bar(\n",
    "    x=df_type.index,\n",
    "    y=df_type,\n",
    "    name = 'Тип кузова'\n",
    ")\n",
    "\n",
    "trace2 = go.Bar(\n",
    "    x=df_type_price.index,\n",
    "    y=df_type_price / 100,\n",
    "    name = 'Цена / 100'\n",
    ")\n",
    "\n",
    "d = [trace1, trace2]\n",
    "layout = {'title': 'Соотношение типам кузова автомобилей'}\n",
    "\n",
    "fig = go.Figure(data=d, layout=layout)\n",
    "iplot(fig, show_link=False)"
   ]
  },
  {
   "cell_type": "code",
   "execution_count": null,
   "metadata": {},
   "outputs": [],
   "source": []
  }
 ],
 "metadata": {
  "kernelspec": {
   "display_name": "Python 3",
   "language": "python",
   "name": "python3"
  },
  "language_info": {
   "codemirror_mode": {
    "name": "ipython",
    "version": 3
   },
   "file_extension": ".py",
   "mimetype": "text/x-python",
   "name": "python",
   "nbconvert_exporter": "python",
   "pygments_lexer": "ipython3",
   "version": "3.6.5"
  }
 },
 "nbformat": 4,
 "nbformat_minor": 2
}
