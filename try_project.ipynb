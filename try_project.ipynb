{
 "cells": [
  {
   "cell_type": "code",
   "execution_count": 1,
   "metadata": {},
   "outputs": [],
   "source": [
    "import pandas as pd\n",
    "import matplotlib.pyplot as plt"
   ]
  },
  {
   "cell_type": "code",
   "execution_count": 2,
   "metadata": {
    "scrolled": true
   },
   "outputs": [
    {
     "name": "stderr",
     "output_type": "stream",
     "text": [
      "/usr/local/lib/python3.7/site-packages/IPython/core/interactiveshell.py:3020: DtypeWarning: Columns (6) have mixed types. Specify dtype option on import or set low_memory=False.\n",
      "  interactivity=interactivity, compiler=compiler, result=result)\n"
     ]
    },
    {
     "data": {
      "text/html": [
       "<div>\n",
       "<style scoped>\n",
       "    .dataframe tbody tr th:only-of-type {\n",
       "        vertical-align: middle;\n",
       "    }\n",
       "\n",
       "    .dataframe tbody tr th {\n",
       "        vertical-align: top;\n",
       "    }\n",
       "\n",
       "    .dataframe thead th {\n",
       "        text-align: right;\n",
       "    }\n",
       "</style>\n",
       "<table border=\"1\" class=\"dataframe\">\n",
       "  <thead>\n",
       "    <tr style=\"text-align: right;\">\n",
       "      <th></th>\n",
       "      <th>Марка</th>\n",
       "      <th>Модель</th>\n",
       "      <th>Год выпуска</th>\n",
       "      <th>Тип кузова</th>\n",
       "      <th>Цена</th>\n",
       "      <th>Объём двигателя</th>\n",
       "      <th>Цвет</th>\n",
       "      <th>Привод</th>\n",
       "      <th>Руль</th>\n",
       "      <th>Тип двигателя</th>\n",
       "      <th>Состояние</th>\n",
       "      <th>Владельцев по ПТС</th>\n",
       "      <th>Количество дверей</th>\n",
       "      <th>Мощность двигателя</th>\n",
       "      <th>Пробег</th>\n",
       "      <th>VIN или номер кузова</th>\n",
       "      <th>Коробка передач</th>\n",
       "      <th>Ссылка</th>\n",
       "    </tr>\n",
       "  </thead>\n",
       "  <tbody>\n",
       "    <tr>\n",
       "      <th>0</th>\n",
       "      <td>Audi</td>\n",
       "      <td>A8</td>\n",
       "      <td>2010</td>\n",
       "      <td>седан</td>\n",
       "      <td>990 000</td>\n",
       "      <td>4.2</td>\n",
       "      <td>чёрный</td>\n",
       "      <td>полный</td>\n",
       "      <td>левый</td>\n",
       "      <td>бензин</td>\n",
       "      <td>не битый</td>\n",
       "      <td>1</td>\n",
       "      <td>4.0</td>\n",
       "      <td>340 л.с.</td>\n",
       "      <td>160000 км</td>\n",
       "      <td>WAUZZZ4H*BN****23</td>\n",
       "      <td>автомат</td>\n",
       "      <td>https://www.avito.ru/moskva/avtomobili/audi_a8...</td>\n",
       "    </tr>\n",
       "    <tr>\n",
       "      <th>1</th>\n",
       "      <td>Audi</td>\n",
       "      <td>A8</td>\n",
       "      <td>2007</td>\n",
       "      <td>седан</td>\n",
       "      <td>1 250 000</td>\n",
       "      <td>6.0</td>\n",
       "      <td>серый</td>\n",
       "      <td>полный</td>\n",
       "      <td>левый</td>\n",
       "      <td>бензин</td>\n",
       "      <td>не битый</td>\n",
       "      <td>1</td>\n",
       "      <td>4.0</td>\n",
       "      <td>450 л.с.</td>\n",
       "      <td>41075 км</td>\n",
       "      <td>WAUZZZ4E*7N****87</td>\n",
       "      <td>автомат</td>\n",
       "      <td>https://www.avito.ru/moskva/avtomobili/audi_a8...</td>\n",
       "    </tr>\n",
       "    <tr>\n",
       "      <th>2</th>\n",
       "      <td>Audi</td>\n",
       "      <td>Q5</td>\n",
       "      <td>2009</td>\n",
       "      <td>универсал</td>\n",
       "      <td>660 000</td>\n",
       "      <td>2.0</td>\n",
       "      <td>серый</td>\n",
       "      <td>полный</td>\n",
       "      <td>левый</td>\n",
       "      <td>бензин</td>\n",
       "      <td>не битый</td>\n",
       "      <td>2</td>\n",
       "      <td>5.0</td>\n",
       "      <td>211 л.с.</td>\n",
       "      <td>157000 км</td>\n",
       "      <td>WAUZZZ8R*AA****95</td>\n",
       "      <td>автомат</td>\n",
       "      <td>https://www.avito.ru/moskva/avtomobili/audi_q5...</td>\n",
       "    </tr>\n",
       "    <tr>\n",
       "      <th>3</th>\n",
       "      <td>Audi</td>\n",
       "      <td>Q5</td>\n",
       "      <td>2009</td>\n",
       "      <td>внедорожник</td>\n",
       "      <td>769 999</td>\n",
       "      <td>2.0</td>\n",
       "      <td>белый</td>\n",
       "      <td>полный</td>\n",
       "      <td>левый</td>\n",
       "      <td>бензин</td>\n",
       "      <td>не битый</td>\n",
       "      <td>2</td>\n",
       "      <td>NaN</td>\n",
       "      <td>211 л.с.</td>\n",
       "      <td>81000 км</td>\n",
       "      <td>WAUZZZ8R*AA****51</td>\n",
       "      <td>автомат</td>\n",
       "      <td>https://www.avito.ru/moskva/avtomobili/audi_q5...</td>\n",
       "    </tr>\n",
       "    <tr>\n",
       "      <th>4</th>\n",
       "      <td>Audi</td>\n",
       "      <td>Q7</td>\n",
       "      <td>2007</td>\n",
       "      <td>внедорожник</td>\n",
       "      <td>770 000</td>\n",
       "      <td>3.6</td>\n",
       "      <td>чёрный</td>\n",
       "      <td>полный</td>\n",
       "      <td>левый</td>\n",
       "      <td>бензин</td>\n",
       "      <td>не битый</td>\n",
       "      <td>2</td>\n",
       "      <td>5.0</td>\n",
       "      <td>280 л.с.</td>\n",
       "      <td>175000 км</td>\n",
       "      <td>WAUZZZ4L*8D****67</td>\n",
       "      <td>автомат</td>\n",
       "      <td>https://www.avito.ru/moskva/avtomobili/audi_q7...</td>\n",
       "    </tr>\n",
       "  </tbody>\n",
       "</table>\n",
       "</div>"
      ],
      "text/plain": [
       "  Марка Модель  Год выпуска   Тип кузова       Цена Объём двигателя    Цвет  \\\n",
       "0  Audi     A8         2010        седан    990 000             4.2  чёрный   \n",
       "1  Audi     A8         2007        седан  1 250 000             6.0   серый   \n",
       "2  Audi     Q5         2009    универсал    660 000             2.0   серый   \n",
       "3  Audi     Q5         2009  внедорожник    769 999             2.0   белый   \n",
       "4  Audi     Q7         2007  внедорожник    770 000             3.6  чёрный   \n",
       "\n",
       "   Привод   Руль Тип двигателя Состояние Владельцев по ПТС  Количество дверей  \\\n",
       "0  полный  левый        бензин  не битый                 1                4.0   \n",
       "1  полный  левый        бензин  не битый                 1                4.0   \n",
       "2  полный  левый        бензин  не битый                 2                5.0   \n",
       "3  полный  левый        бензин  не битый                 2                NaN   \n",
       "4  полный  левый        бензин  не битый                 2                5.0   \n",
       "\n",
       "  Мощность двигателя     Пробег VIN или номер кузова Коробка передач  \\\n",
       "0           340 л.с.  160000 км    WAUZZZ4H*BN****23         автомат   \n",
       "1           450 л.с.   41075 км    WAUZZZ4E*7N****87         автомат   \n",
       "2           211 л.с.  157000 км    WAUZZZ8R*AA****95         автомат   \n",
       "3           211 л.с.   81000 км    WAUZZZ8R*AA****51         автомат   \n",
       "4           280 л.с.  175000 км    WAUZZZ4L*8D****67         автомат   \n",
       "\n",
       "                                              Ссылка  \n",
       "0  https://www.avito.ru/moskva/avtomobili/audi_a8...  \n",
       "1  https://www.avito.ru/moskva/avtomobili/audi_a8...  \n",
       "2  https://www.avito.ru/moskva/avtomobili/audi_q5...  \n",
       "3  https://www.avito.ru/moskva/avtomobili/audi_q5...  \n",
       "4  https://www.avito.ru/moskva/avtomobili/audi_q7...  "
      ]
     },
     "execution_count": 2,
     "metadata": {},
     "output_type": "execute_result"
    }
   ],
   "source": [
    "data = pd.read_csv('avito.csv')\n",
    "data = data.drop(['Unnamed: 0'], axis=1)\n",
    "data.head(5)"
   ]
  },
  {
   "cell_type": "code",
   "execution_count": 38,
   "metadata": {},
   "outputs": [
    {
     "data": {
      "text/plain": [
       "левый     2457\n",
       "правый     230\n",
       "Name: Руль, dtype: int64"
      ]
     },
     "execution_count": 38,
     "metadata": {},
     "output_type": "execute_result"
    }
   ],
   "source": [
    "data['Руль'][data['Марка'] == 'Toyota'].value_counts()"
   ]
  },
  {
   "cell_type": "code",
   "execution_count": 41,
   "metadata": {},
   "outputs": [
    {
     "data": {
      "text/plain": [
       "2002    28\n",
       "2015    26\n",
       "2000    21\n",
       "2001    21\n",
       "2005    17\n",
       "2003    17\n",
       "2014    15\n",
       "2013    15\n",
       "2012    14\n",
       "2004    13\n",
       "2006    12\n",
       "2007     9\n",
       "2008     7\n",
       "2009     7\n",
       "2010     4\n",
       "2011     2\n",
       "2016     1\n",
       "2018     1\n",
       "Name: Год выпуска, dtype: int64"
      ]
     },
     "execution_count": 41,
     "metadata": {},
     "output_type": "execute_result"
    }
   ],
   "source": [
    "data[(data['Руль'] == 'правый') & (data['Марка'] == 'Toyota')]['Год выпуска'].value_counts()"
   ]
  },
  {
   "cell_type": "code",
   "execution_count": null,
   "metadata": {},
   "outputs": [],
   "source": []
  },
  {
   "cell_type": "code",
   "execution_count": 35,
   "metadata": {},
   "outputs": [
    {
     "data": {
      "text/plain": [
       "Toyota           230\n",
       "Nissan           158\n",
       "Honda             79\n",
       "Subaru            38\n",
       "Mitsubishi        33\n",
       "Mazda             24\n",
       "Suzuki            17\n",
       "Audi              14\n",
       "Opel              10\n",
       "ВАЗ (LADA)         9\n",
       "Hyundai            8\n",
       "BMW                8\n",
       "Mercedes-Benz      7\n",
       "Lexus              5\n",
       "Peugeot            4\n",
       "Land Rover         4\n",
       "Renault            4\n",
       "Volkswagen         4\n",
       "SsangYong          3\n",
       "ГАЗ                3\n",
       "Citroen            2\n",
       "Skoda              2\n",
       "Porsche            1\n",
       "KIA                1\n",
       "Volvo              1\n",
       "Chevrolet          1\n",
       "Name: Марка, dtype: int64"
      ]
     },
     "execution_count": 35,
     "metadata": {},
     "output_type": "execute_result"
    }
   ],
   "source": [
    "data['Марка'][data['Руль'] == 'правый'].value_counts()"
   ]
  },
  {
   "cell_type": "markdown",
   "metadata": {},
   "source": [
    "#### Преобразовываю данные в флоат"
   ]
  },
  {
   "cell_type": "code",
   "execution_count": 3,
   "metadata": {},
   "outputs": [],
   "source": [
    "data['Цена'] = [float(x.replace(' ', '')) for x in data['Цена']]\n",
    "data['Объём двигателя'] = pd.to_numeric(data['Объём двигателя'], errors='coerce')\n",
    "data['Владельцев по ПТС'] = pd.to_numeric(data['Владельцев по ПТС'], errors='coerce')\n",
    "data['Мощность двигателя'] = [float(x.split('л')[0]) for x in data['Мощность двигателя']]\n",
    "data['Пробег'] = [str(x) for x in data['Пробег']]\n",
    "data['Пробег'] = [float(x.replace('км', '')) for x in data['Пробег']]"
   ]
  },
  {
   "cell_type": "code",
   "execution_count": 4,
   "metadata": {},
   "outputs": [
    {
     "name": "stdout",
     "output_type": "stream",
     "text": [
      "<class 'pandas.core.frame.DataFrame'>\n",
      "RangeIndex: 41104 entries, 0 to 41103\n",
      "Data columns (total 18 columns):\n",
      "Марка                   41104 non-null object\n",
      "Модель                  41104 non-null object\n",
      "Год выпуска             41104 non-null int64\n",
      "Тип кузова              41104 non-null object\n",
      "Цена                    41104 non-null float64\n",
      "Объём двигателя         41016 non-null float64\n",
      "Цвет                    41104 non-null object\n",
      "Привод                  41104 non-null object\n",
      "Руль                    41104 non-null object\n",
      "Тип двигателя           41104 non-null object\n",
      "Состояние               34397 non-null object\n",
      "Владельцев по ПТС       31247 non-null float64\n",
      "Количество дверей       30300 non-null float64\n",
      "Мощность двигателя      41104 non-null float64\n",
      "Пробег                  34397 non-null float64\n",
      "VIN или номер кузова    41104 non-null object\n",
      "Коробка передач         41104 non-null object\n",
      "Ссылка                  41104 non-null object\n",
      "dtypes: float64(6), int64(1), object(11)\n",
      "memory usage: 5.6+ MB\n"
     ]
    }
   ],
   "source": [
    "data.info()"
   ]
  },
  {
   "cell_type": "code",
   "execution_count": 5,
   "metadata": {},
   "outputs": [
    {
     "data": {
      "text/plain": [
       "[<matplotlib.lines.Line2D at 0x7f59a49cc160>]"
      ]
     },
     "execution_count": 5,
     "metadata": {},
     "output_type": "execute_result"
    },
    {
     "data": {
      "image/png": "[encoded data removed]",
      "text/plain": [
       "<Figure size 432x288 with 1 Axes>"
      ]
     },
     "metadata": {
      "needs_background": "light"
     },
     "output_type": "display_data"
    }
   ],
   "source": [
    "df_kms = data.groupby(by='Год выпуска')['Пробег'].mean()\n",
    "# plt.plot(data['Пробег'], data['Год выпуска'])\n",
    "plt.plot(df_kms)"
   ]
  },
  {
   "cell_type": "markdown",
   "metadata": {},
   "source": [
    "Ебану бейслайн"
   ]
  },
  {
   "cell_type": "code",
   "execution_count": 6,
   "metadata": {},
   "outputs": [
    {
     "name": "stdout",
     "output_type": "stream",
     "text": [
      "<class 'pandas.core.frame.DataFrame'>\n",
      "Int64Index: 22297 entries, 0 to 41103\n",
      "Data columns (total 18 columns):\n",
      "Марка                   22297 non-null object\n",
      "Модель                  22297 non-null object\n",
      "Год выпуска             22297 non-null int64\n",
      "Тип кузова              22297 non-null object\n",
      "Цена                    22297 non-null float64\n",
      "Объём двигателя         22297 non-null float64\n",
      "Цвет                    22297 non-null object\n",
      "Привод                  22297 non-null object\n",
      "Руль                    22297 non-null object\n",
      "Тип двигателя           22297 non-null object\n",
      "Состояние               22297 non-null object\n",
      "Владельцев по ПТС       22297 non-null float64\n",
      "Количество дверей       22297 non-null float64\n",
      "Мощность двигателя      22297 non-null float64\n",
      "Пробег                  22297 non-null float64\n",
      "VIN или номер кузова    22297 non-null object\n",
      "Коробка передач         22297 non-null object\n",
      "Ссылка                  22297 non-null object\n",
      "dtypes: float64(6), int64(1), object(11)\n",
      "memory usage: 3.2+ MB\n"
     ]
    }
   ],
   "source": [
    "data_new = data.dropna()\n",
    "data_new.info()"
   ]
  },
  {
   "cell_type": "code",
   "execution_count": 7,
   "metadata": {},
   "outputs": [
    {
     "data": {
      "text/html": [
       "<div>\n",
       "<style scoped>\n",
       "    .dataframe tbody tr th:only-of-type {\n",
       "        vertical-align: middle;\n",
       "    }\n",
       "\n",
       "    .dataframe tbody tr th {\n",
       "        vertical-align: top;\n",
       "    }\n",
       "\n",
       "    .dataframe thead th {\n",
       "        text-align: right;\n",
       "    }\n",
       "</style>\n",
       "<table border=\"1\" class=\"dataframe\">\n",
       "  <thead>\n",
       "    <tr style=\"text-align: right;\">\n",
       "      <th></th>\n",
       "      <th>Марка</th>\n",
       "      <th>Модель</th>\n",
       "      <th>Год выпуска</th>\n",
       "      <th>Тип кузова</th>\n",
       "      <th>Цена</th>\n",
       "      <th>Объём двигателя</th>\n",
       "      <th>Цвет</th>\n",
       "      <th>Привод</th>\n",
       "      <th>Руль</th>\n",
       "      <th>Тип двигателя</th>\n",
       "      <th>Состояние</th>\n",
       "      <th>Владельцев по ПТС</th>\n",
       "      <th>Количество дверей</th>\n",
       "      <th>Мощность двигателя</th>\n",
       "      <th>Пробег</th>\n",
       "      <th>VIN или номер кузова</th>\n",
       "      <th>Коробка передач</th>\n",
       "      <th>Ссылка</th>\n",
       "    </tr>\n",
       "  </thead>\n",
       "  <tbody>\n",
       "    <tr>\n",
       "      <th>0</th>\n",
       "      <td>Audi</td>\n",
       "      <td>A8</td>\n",
       "      <td>2010</td>\n",
       "      <td>седан</td>\n",
       "      <td>990000.0</td>\n",
       "      <td>4.2</td>\n",
       "      <td>чёрный</td>\n",
       "      <td>полный</td>\n",
       "      <td>левый</td>\n",
       "      <td>бензин</td>\n",
       "      <td>не битый</td>\n",
       "      <td>1.0</td>\n",
       "      <td>4.0</td>\n",
       "      <td>340.0</td>\n",
       "      <td>160000.0</td>\n",
       "      <td>WAUZZZ4H*BN****23</td>\n",
       "      <td>автомат</td>\n",
       "      <td>https://www.avito.ru/moskva/avtomobili/audi_a8...</td>\n",
       "    </tr>\n",
       "    <tr>\n",
       "      <th>1</th>\n",
       "      <td>Audi</td>\n",
       "      <td>A8</td>\n",
       "      <td>2007</td>\n",
       "      <td>седан</td>\n",
       "      <td>1250000.0</td>\n",
       "      <td>6.0</td>\n",
       "      <td>серый</td>\n",
       "      <td>полный</td>\n",
       "      <td>левый</td>\n",
       "      <td>бензин</td>\n",
       "      <td>не битый</td>\n",
       "      <td>1.0</td>\n",
       "      <td>4.0</td>\n",
       "      <td>450.0</td>\n",
       "      <td>41075.0</td>\n",
       "      <td>WAUZZZ4E*7N****87</td>\n",
       "      <td>автомат</td>\n",
       "      <td>https://www.avito.ru/moskva/avtomobili/audi_a8...</td>\n",
       "    </tr>\n",
       "    <tr>\n",
       "      <th>2</th>\n",
       "      <td>Audi</td>\n",
       "      <td>Q5</td>\n",
       "      <td>2009</td>\n",
       "      <td>универсал</td>\n",
       "      <td>660000.0</td>\n",
       "      <td>2.0</td>\n",
       "      <td>серый</td>\n",
       "      <td>полный</td>\n",
       "      <td>левый</td>\n",
       "      <td>бензин</td>\n",
       "      <td>не битый</td>\n",
       "      <td>2.0</td>\n",
       "      <td>5.0</td>\n",
       "      <td>211.0</td>\n",
       "      <td>157000.0</td>\n",
       "      <td>WAUZZZ8R*AA****95</td>\n",
       "      <td>автомат</td>\n",
       "      <td>https://www.avito.ru/moskva/avtomobili/audi_q5...</td>\n",
       "    </tr>\n",
       "    <tr>\n",
       "      <th>4</th>\n",
       "      <td>Audi</td>\n",
       "      <td>Q7</td>\n",
       "      <td>2007</td>\n",
       "      <td>внедорожник</td>\n",
       "      <td>770000.0</td>\n",
       "      <td>3.6</td>\n",
       "      <td>чёрный</td>\n",
       "      <td>полный</td>\n",
       "      <td>левый</td>\n",
       "      <td>бензин</td>\n",
       "      <td>не битый</td>\n",
       "      <td>2.0</td>\n",
       "      <td>5.0</td>\n",
       "      <td>280.0</td>\n",
       "      <td>175000.0</td>\n",
       "      <td>WAUZZZ4L*8D****67</td>\n",
       "      <td>автомат</td>\n",
       "      <td>https://www.avito.ru/moskva/avtomobili/audi_q7...</td>\n",
       "    </tr>\n",
       "    <tr>\n",
       "      <th>5</th>\n",
       "      <td>Audi</td>\n",
       "      <td>Q3</td>\n",
       "      <td>2011</td>\n",
       "      <td>хетчбэк</td>\n",
       "      <td>820000.0</td>\n",
       "      <td>2.0</td>\n",
       "      <td>чёрный</td>\n",
       "      <td>полный</td>\n",
       "      <td>левый</td>\n",
       "      <td>бензин</td>\n",
       "      <td>не битый</td>\n",
       "      <td>2.0</td>\n",
       "      <td>5.0</td>\n",
       "      <td>211.0</td>\n",
       "      <td>98000.0</td>\n",
       "      <td>WAUZZZ8U*CR****48</td>\n",
       "      <td>автомат</td>\n",
       "      <td>https://www.avito.ru/moskva/avtomobili/audi_q3...</td>\n",
       "    </tr>\n",
       "  </tbody>\n",
       "</table>\n",
       "</div>"
      ],
      "text/plain": [
       "  Марка Модель  Год выпуска   Тип кузова       Цена  Объём двигателя    Цвет  \\\n",
       "0  Audi     A8         2010        седан   990000.0              4.2  чёрный   \n",
       "1  Audi     A8         2007        седан  1250000.0              6.0   серый   \n",
       "2  Audi     Q5         2009    универсал   660000.0              2.0   серый   \n",
       "4  Audi     Q7         2007  внедорожник   770000.0              3.6  чёрный   \n",
       "5  Audi     Q3         2011      хетчбэк   820000.0              2.0  чёрный   \n",
       "\n",
       "   Привод   Руль Тип двигателя Состояние  Владельцев по ПТС  \\\n",
       "0  полный  левый        бензин  не битый                1.0   \n",
       "1  полный  левый        бензин  не битый                1.0   \n",
       "2  полный  левый        бензин  не битый                2.0   \n",
       "4  полный  левый        бензин  не битый                2.0   \n",
       "5  полный  левый        бензин  не битый                2.0   \n",
       "\n",
       "   Количество дверей  Мощность двигателя    Пробег VIN или номер кузова  \\\n",
       "0                4.0               340.0  160000.0    WAUZZZ4H*BN****23   \n",
       "1                4.0               450.0   41075.0    WAUZZZ4E*7N****87   \n",
       "2                5.0               211.0  157000.0    WAUZZZ8R*AA****95   \n",
       "4                5.0               280.0  175000.0    WAUZZZ4L*8D****67   \n",
       "5                5.0               211.0   98000.0    WAUZZZ8U*CR****48   \n",
       "\n",
       "  Коробка передач                                             Ссылка  \n",
       "0         автомат  https://www.avito.ru/moskva/avtomobili/audi_a8...  \n",
       "1         автомат  https://www.avito.ru/moskva/avtomobili/audi_a8...  \n",
       "2         автомат  https://www.avito.ru/moskva/avtomobili/audi_q5...  \n",
       "4         автомат  https://www.avito.ru/moskva/avtomobili/audi_q7...  \n",
       "5         автомат  https://www.avito.ru/moskva/avtomobili/audi_q3...  "
      ]
     },
     "execution_count": 7,
     "metadata": {},
     "output_type": "execute_result"
    }
   ],
   "source": [
    "data_new.head(5)"
   ]
  },
  {
   "cell_type": "code",
   "execution_count": 8,
   "metadata": {
    "scrolled": true
   },
   "outputs": [
    {
     "data": {
      "text/html": [
       "<div>\n",
       "<style scoped>\n",
       "    .dataframe tbody tr th:only-of-type {\n",
       "        vertical-align: middle;\n",
       "    }\n",
       "\n",
       "    .dataframe tbody tr th {\n",
       "        vertical-align: top;\n",
       "    }\n",
       "\n",
       "    .dataframe thead th {\n",
       "        text-align: right;\n",
       "    }\n",
       "</style>\n",
       "<table border=\"1\" class=\"dataframe\">\n",
       "  <thead>\n",
       "    <tr style=\"text-align: right;\">\n",
       "      <th></th>\n",
       "      <th>Год выпуска</th>\n",
       "      <th>Цена</th>\n",
       "      <th>Объём двигателя</th>\n",
       "      <th>Владельцев по ПТС</th>\n",
       "      <th>Количество дверей</th>\n",
       "      <th>Мощность двигателя</th>\n",
       "      <th>Пробег</th>\n",
       "      <th>Марка_Audi</th>\n",
       "      <th>Марка_BMW</th>\n",
       "      <th>Марка_Chevrolet</th>\n",
       "      <th>...</th>\n",
       "      <th>Тип двигателя_бензин</th>\n",
       "      <th>Тип двигателя_газ</th>\n",
       "      <th>Тип двигателя_гибрид</th>\n",
       "      <th>Тип двигателя_дизель</th>\n",
       "      <th>Состояние_ битый</th>\n",
       "      <th>Состояние_не битый</th>\n",
       "      <th>Коробка передач_автомат</th>\n",
       "      <th>Коробка передач_вариатор</th>\n",
       "      <th>Коробка передач_механика</th>\n",
       "      <th>Коробка передач_робот</th>\n",
       "    </tr>\n",
       "  </thead>\n",
       "  <tbody>\n",
       "    <tr>\n",
       "      <th>0</th>\n",
       "      <td>2010</td>\n",
       "      <td>990000.0</td>\n",
       "      <td>4.2</td>\n",
       "      <td>1.0</td>\n",
       "      <td>4.0</td>\n",
       "      <td>340.0</td>\n",
       "      <td>160000.0</td>\n",
       "      <td>1</td>\n",
       "      <td>0</td>\n",
       "      <td>0</td>\n",
       "      <td>...</td>\n",
       "      <td>1</td>\n",
       "      <td>0</td>\n",
       "      <td>0</td>\n",
       "      <td>0</td>\n",
       "      <td>0</td>\n",
       "      <td>1</td>\n",
       "      <td>1</td>\n",
       "      <td>0</td>\n",
       "      <td>0</td>\n",
       "      <td>0</td>\n",
       "    </tr>\n",
       "    <tr>\n",
       "      <th>1</th>\n",
       "      <td>2007</td>\n",
       "      <td>1250000.0</td>\n",
       "      <td>6.0</td>\n",
       "      <td>1.0</td>\n",
       "      <td>4.0</td>\n",
       "      <td>450.0</td>\n",
       "      <td>41075.0</td>\n",
       "      <td>1</td>\n",
       "      <td>0</td>\n",
       "      <td>0</td>\n",
       "      <td>...</td>\n",
       "      <td>1</td>\n",
       "      <td>0</td>\n",
       "      <td>0</td>\n",
       "      <td>0</td>\n",
       "      <td>0</td>\n",
       "      <td>1</td>\n",
       "      <td>1</td>\n",
       "      <td>0</td>\n",
       "      <td>0</td>\n",
       "      <td>0</td>\n",
       "    </tr>\n",
       "    <tr>\n",
       "      <th>2</th>\n",
       "      <td>2009</td>\n",
       "      <td>660000.0</td>\n",
       "      <td>2.0</td>\n",
       "      <td>2.0</td>\n",
       "      <td>5.0</td>\n",
       "      <td>211.0</td>\n",
       "      <td>157000.0</td>\n",
       "      <td>1</td>\n",
       "      <td>0</td>\n",
       "      <td>0</td>\n",
       "      <td>...</td>\n",
       "      <td>1</td>\n",
       "      <td>0</td>\n",
       "      <td>0</td>\n",
       "      <td>0</td>\n",
       "      <td>0</td>\n",
       "      <td>1</td>\n",
       "      <td>1</td>\n",
       "      <td>0</td>\n",
       "      <td>0</td>\n",
       "      <td>0</td>\n",
       "    </tr>\n",
       "    <tr>\n",
       "      <th>4</th>\n",
       "      <td>2007</td>\n",
       "      <td>770000.0</td>\n",
       "      <td>3.6</td>\n",
       "      <td>2.0</td>\n",
       "      <td>5.0</td>\n",
       "      <td>280.0</td>\n",
       "      <td>175000.0</td>\n",
       "      <td>1</td>\n",
       "      <td>0</td>\n",
       "      <td>0</td>\n",
       "      <td>...</td>\n",
       "      <td>1</td>\n",
       "      <td>0</td>\n",
       "      <td>0</td>\n",
       "      <td>0</td>\n",
       "      <td>0</td>\n",
       "      <td>1</td>\n",
       "      <td>1</td>\n",
       "      <td>0</td>\n",
       "      <td>0</td>\n",
       "      <td>0</td>\n",
       "    </tr>\n",
       "    <tr>\n",
       "      <th>5</th>\n",
       "      <td>2011</td>\n",
       "      <td>820000.0</td>\n",
       "      <td>2.0</td>\n",
       "      <td>2.0</td>\n",
       "      <td>5.0</td>\n",
       "      <td>211.0</td>\n",
       "      <td>98000.0</td>\n",
       "      <td>1</td>\n",
       "      <td>0</td>\n",
       "      <td>0</td>\n",
       "      <td>...</td>\n",
       "      <td>1</td>\n",
       "      <td>0</td>\n",
       "      <td>0</td>\n",
       "      <td>0</td>\n",
       "      <td>0</td>\n",
       "      <td>1</td>\n",
       "      <td>1</td>\n",
       "      <td>0</td>\n",
       "      <td>0</td>\n",
       "      <td>0</td>\n",
       "    </tr>\n",
       "  </tbody>\n",
       "</table>\n",
       "<p>5 rows × 728 columns</p>\n",
       "</div>"
      ],
      "text/plain": [
       "   Год выпуска       Цена  Объём двигателя  Владельцев по ПТС  \\\n",
       "0         2010   990000.0              4.2                1.0   \n",
       "1         2007  1250000.0              6.0                1.0   \n",
       "2         2009   660000.0              2.0                2.0   \n",
       "4         2007   770000.0              3.6                2.0   \n",
       "5         2011   820000.0              2.0                2.0   \n",
       "\n",
       "   Количество дверей  Мощность двигателя    Пробег  Марка_Audi  Марка_BMW  \\\n",
       "0                4.0               340.0  160000.0           1          0   \n",
       "1                4.0               450.0   41075.0           1          0   \n",
       "2                5.0               211.0  157000.0           1          0   \n",
       "4                5.0               280.0  175000.0           1          0   \n",
       "5                5.0               211.0   98000.0           1          0   \n",
       "\n",
       "   Марка_Chevrolet          ...            Тип двигателя_бензин  \\\n",
       "0                0          ...                               1   \n",
       "1                0          ...                               1   \n",
       "2                0          ...                               1   \n",
       "4                0          ...                               1   \n",
       "5                0          ...                               1   \n",
       "\n",
       "   Тип двигателя_газ  Тип двигателя_гибрид  Тип двигателя_дизель  \\\n",
       "0                  0                     0                     0   \n",
       "1                  0                     0                     0   \n",
       "2                  0                     0                     0   \n",
       "4                  0                     0                     0   \n",
       "5                  0                     0                     0   \n",
       "\n",
       "   Состояние_ битый  Состояние_не битый  Коробка передач_автомат  \\\n",
       "0                 0                   1                        1   \n",
       "1                 0                   1                        1   \n",
       "2                 0                   1                        1   \n",
       "4                 0                   1                        1   \n",
       "5                 0                   1                        1   \n",
       "\n",
       "   Коробка передач_вариатор  Коробка передач_механика  Коробка передач_робот  \n",
       "0                         0                         0                      0  \n",
       "1                         0                         0                      0  \n",
       "2                         0                         0                      0  \n",
       "4                         0                         0                      0  \n",
       "5                         0                         0                      0  \n",
       "\n",
       "[5 rows x 728 columns]"
      ]
     },
     "execution_count": 8,
     "metadata": {},
     "output_type": "execute_result"
    }
   ],
   "source": [
    "data_new = data_new.drop(['VIN или номер кузова', 'Ссылка'], axis=1)\n",
    "\n",
    "data_dummies = pd.get_dummies(data=data_new, columns=['Марка','Модель','Тип кузова','Цвет',\n",
    "                                                      'Привод', 'Руль', 'Тип двигателя',\n",
    "                                                      'Состояние', 'Коробка передач'])\n",
    "data_dummies.head(5)"
   ]
  },
  {
   "cell_type": "code",
   "execution_count": 9,
   "metadata": {},
   "outputs": [],
   "source": [
    "import numpy as np"
   ]
  },
  {
   "cell_type": "code",
   "execution_count": 10,
   "metadata": {},
   "outputs": [
    {
     "data": {
      "text/plain": [
       "array([[2.010e+03, 4.200e+00, 1.000e+00, ..., 0.000e+00, 0.000e+00,\n",
       "        0.000e+00],\n",
       "       [2.007e+03, 6.000e+00, 1.000e+00, ..., 0.000e+00, 0.000e+00,\n",
       "        0.000e+00],\n",
       "       [2.009e+03, 2.000e+00, 2.000e+00, ..., 0.000e+00, 0.000e+00,\n",
       "        0.000e+00],\n",
       "       ...,\n",
       "       [2.014e+03, 1.600e+00, 3.000e+00, ..., 0.000e+00, 0.000e+00,\n",
       "        0.000e+00],\n",
       "       [2.012e+03, 2.400e+00, 2.000e+00, ..., 0.000e+00, 0.000e+00,\n",
       "        0.000e+00],\n",
       "       [2.010e+03, 2.500e+00, 3.000e+00, ..., 0.000e+00, 0.000e+00,\n",
       "        0.000e+00]])"
      ]
     },
     "execution_count": 10,
     "metadata": {},
     "output_type": "execute_result"
    }
   ],
   "source": [
    "X = data_dummies.drop(['Цена'], axis=1).values\n",
    "y = data_dummies['Цена'].values\n",
    "\n",
    "from sklearn.preprocessing import Normalizer\n",
    "\n",
    "transformer = Normalizer().fit(X) # fit does nothing.\n",
    "transformer\n",
    "Normalizer(copy=True, norm='l2')\n",
    "transformer.transform(X)\n",
    "X"
   ]
  },
  {
   "cell_type": "code",
   "execution_count": 11,
   "metadata": {},
   "outputs": [],
   "source": [
    "from sklearn.model_selection import train_test_split\n",
    "\n",
    "X_train, X_test, y_train, y_test = train_test_split(\n",
    "         X, y, test_size=0.2, random_state=42)"
   ]
  },
  {
   "cell_type": "code",
   "execution_count": 17,
   "metadata": {},
   "outputs": [
    {
     "name": "stdout",
     "output_type": "stream",
     "text": [
      "0.6727081560676216\n",
      "CPU times: user 5.42 s, sys: 108 ms, total: 5.53 s\n",
      "Wall time: 5.53 s\n"
     ]
    }
   ],
   "source": [
    "%%time\n",
    "from sklearn import linear_model\n",
    "clf = linear_model.Lasso(alpha=1000)\n",
    "clf.fit(X_train, y_train)\n",
    "print(clf.score(X_test, y_test))"
   ]
  },
  {
   "cell_type": "code",
   "execution_count": 19,
   "metadata": {},
   "outputs": [
    {
     "name": "stderr",
     "output_type": "stream",
     "text": [
      "/usr/local/lib/python3.7/site-packages/numpy/core/function_base.py:233: RuntimeWarning: overflow encountered in power\n",
      "  return _nx.power(base, y)\n"
     ]
    },
    {
     "data": {
      "text/plain": [
       "array([1.02329299e+000, 1.23432229e+204,             inf,             inf,\n",
       "                   inf,             inf,             inf,             inf,\n",
       "                   inf,             inf,             inf,             inf,\n",
       "                   inf,             inf,             inf,             inf,\n",
       "                   inf,             inf,             inf,             inf,\n",
       "                   inf,             inf,             inf,             inf,\n",
       "                   inf,             inf,             inf,             inf,\n",
       "                   inf,             inf,             inf,             inf,\n",
       "                   inf,             inf,             inf,             inf,\n",
       "                   inf,             inf,             inf,             inf,\n",
       "                   inf,             inf,             inf,             inf,\n",
       "                   inf,             inf,             inf,             inf,\n",
       "                   inf,             inf])"
      ]
     },
     "execution_count": 19,
     "metadata": {},
     "output_type": "execute_result"
    }
   ],
   "source": [
    "np.logspace(0.01, 10000)"
   ]
  },
  {
   "cell_type": "code",
   "execution_count": 100,
   "metadata": {},
   "outputs": [],
   "source": [
    "y_pred = clf.predict(X_test)"
   ]
  },
  {
   "cell_type": "code",
   "execution_count": null,
   "metadata": {},
   "outputs": [],
   "source": []
  },
  {
   "cell_type": "code",
   "execution_count": 16,
   "metadata": {},
   "outputs": [
    {
     "name": "stderr",
     "output_type": "stream",
     "text": [
      "/usr/local/lib64/python3.6/site-packages/sklearn/linear_model/coordinate_descent.py:492: ConvergenceWarning: Objective did not converge. You might want to increase the number of iterations. Fitting data with very small alpha may cause precision problems.\n",
      "  ConvergenceWarning)\n",
      "/usr/local/lib64/python3.6/site-packages/sklearn/linear_model/coordinate_descent.py:492: ConvergenceWarning: Objective did not converge. You might want to increase the number of iterations. Fitting data with very small alpha may cause precision problems.\n",
      "  ConvergenceWarning)\n",
      "/usr/local/lib64/python3.6/site-packages/sklearn/linear_model/coordinate_descent.py:492: ConvergenceWarning: Objective did not converge. You might want to increase the number of iterations. Fitting data with very small alpha may cause precision problems.\n",
      "  ConvergenceWarning)\n",
      "/usr/local/lib64/python3.6/site-packages/sklearn/linear_model/coordinate_descent.py:492: ConvergenceWarning: Objective did not converge. You might want to increase the number of iterations. Fitting data with very small alpha may cause precision problems.\n",
      "  ConvergenceWarning)\n",
      "/usr/local/lib64/python3.6/site-packages/sklearn/linear_model/coordinate_descent.py:492: ConvergenceWarning: Objective did not converge. You might want to increase the number of iterations. Fitting data with very small alpha may cause precision problems.\n",
      "  ConvergenceWarning)\n",
      "/usr/local/lib64/python3.6/site-packages/sklearn/linear_model/coordinate_descent.py:492: ConvergenceWarning: Objective did not converge. You might want to increase the number of iterations. Fitting data with very small alpha may cause precision problems.\n",
      "  ConvergenceWarning)\n"
     ]
    },
    {
     "data": {
      "text/plain": [
       "GridSearchCV(cv=5, error_score='raise-deprecating',\n",
       "       estimator=Lasso(alpha=0.1, copy_X=True, fit_intercept=True, max_iter=1000,\n",
       "   normalize=False, positive=False, precompute=False, random_state=None,\n",
       "   selection='cyclic', tol=0.0001, warm_start=False),\n",
       "       fit_params=None, iid='warn', n_jobs=None,\n",
       "       param_grid={'alpha': array([1.00000e-01, 2.04180e+02, 4.08259e+02, 6.12339e+02, 8.16418e+02,\n",
       "       1.02050e+03, 1.22458e+03, 1.42866e+03, 1.63274e+03, 1.83682e+03,\n",
       "       2.04090e+03, 2.24498e+03, 2.44906e+03, 2.65313e+03, 2.85721e+03,\n",
       "       3.06129e+03, 3.26537e+03, 3.46945e+03, 3.67353e+03, 3.87... 8.77552e+03, 8.97960e+03,\n",
       "       9.18368e+03, 9.38776e+03, 9.59184e+03, 9.79592e+03, 1.00000e+04])},\n",
       "       pre_dispatch='2*n_jobs', refit=True, return_train_score='warn',\n",
       "       scoring=None, verbose=0)"
      ]
     },
     "execution_count": 16,
     "metadata": {},
     "output_type": "execute_result"
    }
   ],
   "source": [
    "from sklearn.model_selection import GridSearchCV\n",
    "alphas = np.linspace(0.1, 10000)\n",
    "param_grid = {\"alpha\": alphas}\n",
    "\n",
    "grid = GridSearchCV(clf, param_grid=param_grid, cv=5)\n",
    "grid.fit(X_train, y_train)"
   ]
  },
  {
   "cell_type": "code",
   "execution_count": 17,
   "metadata": {},
   "outputs": [
    {
     "data": {
      "text/plain": [
       "{'alpha': 0.1}"
      ]
     },
     "execution_count": 17,
     "metadata": {},
     "output_type": "execute_result"
    }
   ],
   "source": [
    "grid.best_params_"
   ]
  },
  {
   "cell_type": "code",
   "execution_count": 18,
   "metadata": {},
   "outputs": [
    {
     "data": {
      "text/plain": [
       "0.6032015177856157"
      ]
     },
     "execution_count": 18,
     "metadata": {},
     "output_type": "execute_result"
    }
   ],
   "source": [
    "grid.best_score_"
   ]
  },
  {
   "cell_type": "code",
   "execution_count": null,
   "metadata": {},
   "outputs": [],
   "source": [
    "from sklearn."
   ]
  }
 ],
 "metadata": {
  "kernelspec": {
   "display_name": "Python 3",
   "language": "python",
   "name": "python3"
  },
  "language_info": {
   "codemirror_mode": {
    "name": "ipython",
    "version": 3
   },
   "file_extension": ".py",
   "mimetype": "text/x-python",
   "name": "python",
   "nbconvert_exporter": "python",
   "pygments_lexer": "ipython3",
   "version": "3.7.1"
  }
 },
 "nbformat": 4,
 "nbformat_minor": 2
}
